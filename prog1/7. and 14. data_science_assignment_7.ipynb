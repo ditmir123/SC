{
 "cells": [
  {
   "cell_type": "markdown",
   "metadata": {
    "id": "Wg-NdAi98asc"
   },
   "source": [
    "## Importing Required Libraries (NLTK)"
   ]
  },
  {
   "cell_type": "code",
   "execution_count": null,
   "metadata": {
    "colab": {
     "base_uri": "https://localhost:8080/"
    },
    "id": "8cyKq0_N__Ry",
    "outputId": "74d79329-e740-4272-c7bf-c69bee9ab9e3"
   },
   "outputs": [
    {
     "name": "stderr",
     "output_type": "stream",
     "text": [
      "[nltk_data] Downloading package punkt to /root/nltk_data...\n",
      "[nltk_data]   Package punkt is already up-to-date!\n",
      "[nltk_data] Downloading package wordnet to /root/nltk_data...\n",
      "[nltk_data]   Package wordnet is already up-to-date!\n",
      "[nltk_data] Downloading package averaged_perceptron_tagger to\n",
      "[nltk_data]     /root/nltk_data...\n",
      "[nltk_data]   Package averaged_perceptron_tagger is already up-to-\n",
      "[nltk_data]       date!\n",
      "[nltk_data] Downloading package stopwords to /root/nltk_data...\n",
      "[nltk_data]   Package stopwords is already up-to-date!\n"
     ]
    }
   ],
   "source": [
    "import nltk\n",
    "nltk.download('punkt')\n",
    "nltk.download('wordnet')\n",
    "nltk.download('averaged_perceptron_tagger')\n",
    "nltk.download('stopwords')\n",
    "from nltk import sent_tokenize\n",
    "from nltk import word_tokenize\n",
    "from nltk.corpus import stopwords"
   ]
  },
  {
   "cell_type": "code",
   "execution_count": null,
   "metadata": {
    "id": "XgXH8N3GAkKP"
   },
   "outputs": [],
   "source": [
    "from nltk.stem import PorterStemmer\n",
    "from nltk.stem.snowball import SnowballStemmer\n",
    "from nltk.stem import LancasterStemmer\n",
    "from nltk.stem import WordNetLemmatizer\n",
    "lemmatizer = WordNetLemmatizer()"
   ]
  },
  {
   "cell_type": "markdown",
   "metadata": {
    "id": "s3ZcOc148gVV"
   },
   "source": [
    "## Reading from Text file"
   ]
  },
  {
   "cell_type": "code",
   "execution_count": null,
   "metadata": {
    "id": "-Ir9sDbO2-Z-"
   },
   "outputs": [],
   "source": [
    "# text_2 = open('big.txt', \"r\")\n",
    "with open('text3.txt', 'r') as file:\n",
    "    text_op = file.read().replace('\\n', '')\n",
    "# text_op = text_2.readlines()"
   ]
  },
  {
   "cell_type": "code",
   "execution_count": null,
   "metadata": {
    "colab": {
     "base_uri": "https://localhost:8080/"
    },
    "id": "vkOwEupQ3KQ9",
    "outputId": "48d39dfb-1121-44d3-bcd2-8b6d2c2dfd64"
   },
   "outputs": [
    {
     "name": "stdout",
     "output_type": "stream",
     "text": [
      "1589\n"
     ]
    }
   ],
   "source": [
    "print(len(text_op))"
   ]
  },
  {
   "cell_type": "code",
   "execution_count": null,
   "metadata": {
    "id": "UpZ3e686__oG"
   },
   "outputs": [],
   "source": [
    "text='A psychological portrait of a woman in distress that manages to feel packed with feeling despite its airy presentation—but more than that, this is an angry book, and the shimmer off the character\\'s rage is gripping all on its own'"
   ]
  },
  {
   "cell_type": "markdown",
   "metadata": {
    "id": "aVStEqNs8ma0"
   },
   "source": [
    "## Tokenization"
   ]
  },
  {
   "cell_type": "code",
   "execution_count": null,
   "metadata": {
    "colab": {
     "base_uri": "https://localhost:8080/"
    },
    "id": "EGq7XckmAegC",
    "outputId": "d9903072-38c4-4f41-a210-8a3327f7a91f"
   },
   "outputs": [
    {
     "name": "stdout",
     "output_type": "stream",
     "text": [
      "[\"A psychological portrait of a woman angry angry angry in distress that manages to feel psychological psychological psychological packed with feeling despite its angry angry airy presentation—but more than that, thi psychological s is an angry book, and the shimmer off the character\\\\'s rage is gripping all on its own A psychological portrait of a woman angry angry angry in distress that manages to feel psychological psychological psychological packed with feeling despite its angry angry airy presentation—but more than that, thi psychological s is an angry book, and the shimmer off the character\\\\'s rage is gripping all on its own A psychological portrait of a woman angry angry angry in distress that manages to feel psychological psychological psychological packed with feeling despite its angry angry airy presentation—but more than that, thi psychological s is an angry book, and the shimmer off the character\\\\'s rage is gripping all on its own A psychological portrait of a woman angry angry angry in distress that manages to feel psychological psychological psychological packed with feeling despite its angry angry airy presentation—but more than that, thi psychological s is an angry book, and the shimmer off the character\\\\'s rage is gripping all on its own A psychological portrait of a woman angry angry angry in distress that manages to feel psychological psychological psychological packed with feeling despite its angry angry airy presentation—but more than that, thi psychological s is an angry book, and the shimmer off the character\\\\'s rage is gripping all on its own\"]\n"
     ]
    }
   ],
   "source": [
    "tokens_sents = nltk.sent_tokenize(text_op)\n",
    "print(tokens_sents)"
   ]
  },
  {
   "cell_type": "code",
   "execution_count": null,
   "metadata": {
    "colab": {
     "base_uri": "https://localhost:8080/"
    },
    "id": "9Nf8B9QxAgdF",
    "outputId": "3f83da7c-f8a1-4b76-e19c-032fe46930c0"
   },
   "outputs": [
    {
     "name": "stdout",
     "output_type": "stream",
     "text": [
      "['A', 'psychological', 'portrait', 'of', 'a', 'woman', 'angry', 'angry', 'angry', 'in', 'distress', 'that', 'manages', 'to', 'feel', 'psychological', 'psychological', 'psychological', 'packed', 'with', 'feeling', 'despite', 'its', 'angry', 'angry', 'airy', 'presentation—but', 'more', 'than', 'that', ',', 'thi', 'psychological', 's', 'is', 'an', 'angry', 'book', ',', 'and', 'the', 'shimmer', 'off', 'the', 'character\\\\', \"'s\", 'rage', 'is', 'gripping', 'all', 'on', 'its', 'own', 'A', 'psychological', 'portrait', 'of', 'a', 'woman', 'angry', 'angry', 'angry', 'in', 'distress', 'that', 'manages', 'to', 'feel', 'psychological', 'psychological', 'psychological', 'packed', 'with', 'feeling', 'despite', 'its', 'angry', 'angry', 'airy', 'presentation—but', 'more', 'than', 'that', ',', 'thi', 'psychological', 's', 'is', 'an', 'angry', 'book', ',', 'and', 'the', 'shimmer', 'off', 'the', 'character\\\\', \"'s\", 'rage', 'is', 'gripping', 'all', 'on', 'its', 'own', 'A', 'psychological', 'portrait', 'of', 'a', 'woman', 'angry', 'angry', 'angry', 'in', 'distress', 'that', 'manages', 'to', 'feel', 'psychological', 'psychological', 'psychological', 'packed', 'with', 'feeling', 'despite', 'its', 'angry', 'angry', 'airy', 'presentation—but', 'more', 'than', 'that', ',', 'thi', 'psychological', 's', 'is', 'an', 'angry', 'book', ',', 'and', 'the', 'shimmer', 'off', 'the', 'character\\\\', \"'s\", 'rage', 'is', 'gripping', 'all', 'on', 'its', 'own', 'A', 'psychological', 'portrait', 'of', 'a', 'woman', 'angry', 'angry', 'angry', 'in', 'distress', 'that', 'manages', 'to', 'feel', 'psychological', 'psychological', 'psychological', 'packed', 'with', 'feeling', 'despite', 'its', 'angry', 'angry', 'airy', 'presentation—but', 'more', 'than', 'that', ',', 'thi', 'psychological', 's', 'is', 'an', 'angry', 'book', ',', 'and', 'the', 'shimmer', 'off', 'the', 'character\\\\', \"'s\", 'rage', 'is', 'gripping', 'all', 'on', 'its', 'own', 'A', 'psychological', 'portrait', 'of', 'a', 'woman', 'angry', 'angry', 'angry', 'in', 'distress', 'that', 'manages', 'to', 'feel', 'psychological', 'psychological', 'psychological', 'packed', 'with', 'feeling', 'despite', 'its', 'angry', 'angry', 'airy', 'presentation—but', 'more', 'than', 'that', ',', 'thi', 'psychological', 's', 'is', 'an', 'angry', 'book', ',', 'and', 'the', 'shimmer', 'off', 'the', 'character\\\\', \"'s\", 'rage', 'is', 'gripping', 'all', 'on', 'its', 'own']\n"
     ]
    }
   ],
   "source": [
    "tokens_words = nltk.word_tokenize(text_op)\n",
    "print(tokens_words)"
   ]
  },
  {
   "cell_type": "markdown",
   "metadata": {
    "id": "hp9zFaMo8pLU"
   },
   "source": [
    "## Stemming"
   ]
  },
  {
   "cell_type": "code",
   "execution_count": null,
   "metadata": {
    "colab": {
     "base_uri": "https://localhost:8080/"
    },
    "id": "53Aa42kJAiE-",
    "outputId": "a15384b3-f1d0-4e5f-b21f-9a73df42cb9a"
   },
   "outputs": [
    {
     "name": "stdout",
     "output_type": "stream",
     "text": [
      "['a', 'psycholog', 'portrait', 'of', 'a', 'woman', 'angri', 'angri', 'angri', 'in', 'distress', 'that', 'manag', 'to', 'feel', 'psycholog', 'psycholog', 'psycholog', 'pack', 'with', 'feel', 'despit', 'it', 'angri', 'angri', 'airi', 'presentation—but', 'more', 'than', 'that', ',', 'thi', 'psycholog', 's', 'is', 'an', 'angri', 'book', ',', 'and', 'the', 'shimmer', 'off', 'the', 'character\\\\', \"'s\", 'rage', 'is', 'grip', 'all', 'on', 'it', 'own', 'a', 'psycholog', 'portrait', 'of', 'a', 'woman', 'angri', 'angri', 'angri', 'in', 'distress', 'that', 'manag', 'to', 'feel', 'psycholog', 'psycholog', 'psycholog', 'pack', 'with', 'feel', 'despit', 'it', 'angri', 'angri', 'airi', 'presentation—but', 'more', 'than', 'that', ',', 'thi', 'psycholog', 's', 'is', 'an', 'angri', 'book', ',', 'and', 'the', 'shimmer', 'off', 'the', 'character\\\\', \"'s\", 'rage', 'is', 'grip', 'all', 'on', 'it', 'own', 'a', 'psycholog', 'portrait', 'of', 'a', 'woman', 'angri', 'angri', 'angri', 'in', 'distress', 'that', 'manag', 'to', 'feel', 'psycholog', 'psycholog', 'psycholog', 'pack', 'with', 'feel', 'despit', 'it', 'angri', 'angri', 'airi', 'presentation—but', 'more', 'than', 'that', ',', 'thi', 'psycholog', 's', 'is', 'an', 'angri', 'book', ',', 'and', 'the', 'shimmer', 'off', 'the', 'character\\\\', \"'s\", 'rage', 'is', 'grip', 'all', 'on', 'it', 'own', 'a', 'psycholog', 'portrait', 'of', 'a', 'woman', 'angri', 'angri', 'angri', 'in', 'distress', 'that', 'manag', 'to', 'feel', 'psycholog', 'psycholog', 'psycholog', 'pack', 'with', 'feel', 'despit', 'it', 'angri', 'angri', 'airi', 'presentation—but', 'more', 'than', 'that', ',', 'thi', 'psycholog', 's', 'is', 'an', 'angri', 'book', ',', 'and', 'the', 'shimmer', 'off', 'the', 'character\\\\', \"'s\", 'rage', 'is', 'grip', 'all', 'on', 'it', 'own', 'a', 'psycholog', 'portrait', 'of', 'a', 'woman', 'angri', 'angri', 'angri', 'in', 'distress', 'that', 'manag', 'to', 'feel', 'psycholog', 'psycholog', 'psycholog', 'pack', 'with', 'feel', 'despit', 'it', 'angri', 'angri', 'airi', 'presentation—but', 'more', 'than', 'that', ',', 'thi', 'psycholog', 's', 'is', 'an', 'angri', 'book', ',', 'and', 'the', 'shimmer', 'off', 'the', 'character\\\\', \"'s\", 'rage', 'is', 'grip', 'all', 'on', 'it', 'own']\n"
     ]
    }
   ],
   "source": [
    "stem=[]\n",
    "for i in tokens_words:\n",
    "  ps = PorterStemmer()\n",
    "  stem_word= ps.stem(i)\n",
    "  stem.append(stem_word)\n",
    "print(stem)"
   ]
  },
  {
   "cell_type": "markdown",
   "metadata": {
    "id": "H1Gdi31b8rdM"
   },
   "source": [
    "## Lemmatization"
   ]
  },
  {
   "cell_type": "code",
   "execution_count": null,
   "metadata": {
    "colab": {
     "base_uri": "https://localhost:8080/"
    },
    "id": "2sBTqH2UAmGT",
    "outputId": "3e9d3577-1095-423a-9506-98f4ade1d6af"
   },
   "outputs": [
    {
     "name": "stdout",
     "output_type": "stream",
     "text": [
      "a psycholog portrait of a woman angri angri angri in distress that manag to feel psycholog psycholog psycholog pack with feel despit it angri angri airi presentation—but more than that , thi psycholog s is an angri book , and the shimmer off the character\\ 's rage is grip all on it own a psycholog portrait of a woman angri angri angri in distress that manag to feel psycholog psycholog psycholog pack with feel despit it angri angri airi presentation—but more than that , thi psycholog s is an angri book , and the shimmer off the character\\ 's rage is grip all on it own a psycholog portrait of a woman angri angri angri in distress that manag to feel psycholog psycholog psycholog pack with feel despit it angri angri airi presentation—but more than that , thi psycholog s is an angri book , and the shimmer off the character\\ 's rage is grip all on it own a psycholog portrait of a woman angri angri angri in distress that manag to feel psycholog psycholog psycholog pack with feel despit it angri angri airi presentation—but more than that , thi psycholog s is an angri book , and the shimmer off the character\\ 's rage is grip all on it own a psycholog portrait of a woman angri angri angri in distress that manag to feel psycholog psycholog psycholog pack with feel despit it angri angri airi presentation—but more than that , thi psycholog s is an angri book , and the shimmer off the character\\ 's rage is grip all on it own\n"
     ]
    }
   ],
   "source": [
    "\n",
    "lemmatized_output = ' '.join([lemmatizer.lemmatize(w) for w in stem])\n",
    "print(lemmatized_output)"
   ]
  },
  {
   "cell_type": "code",
   "execution_count": null,
   "metadata": {
    "colab": {
     "base_uri": "https://localhost:8080/"
    },
    "id": "KaGqCAslAsex",
    "outputId": "fc221531-3001-4495-a582-26961a233ce7"
   },
   "outputs": [
    {
     "name": "stdout",
     "output_type": "stream",
     "text": [
      "['a', 'psycholog', 'portrait', 'of', 'a', 'woman', 'angri', 'angri', 'angri', 'in', 'distress', 'that', 'manag', 'to', 'feel', 'psycholog', 'psycholog', 'psycholog', 'pack', 'with', 'feel', 'despit', 'it', 'angri', 'angri', 'airi', 'presentation—but', 'more', 'than', 'that', ',', 'thi', 'psycholog', 's', 'is', 'an', 'angri', 'book', ',', 'and', 'the', 'shimmer', 'off', 'the', 'character\\\\', \"'s\", 'rage', 'is', 'grip', 'all', 'on', 'it', 'own', 'a', 'psycholog', 'portrait', 'of', 'a', 'woman', 'angri', 'angri', 'angri', 'in', 'distress', 'that', 'manag', 'to', 'feel', 'psycholog', 'psycholog', 'psycholog', 'pack', 'with', 'feel', 'despit', 'it', 'angri', 'angri', 'airi', 'presentation—but', 'more', 'than', 'that', ',', 'thi', 'psycholog', 's', 'is', 'an', 'angri', 'book', ',', 'and', 'the', 'shimmer', 'off', 'the', 'character\\\\', \"'s\", 'rage', 'is', 'grip', 'all', 'on', 'it', 'own', 'a', 'psycholog', 'portrait', 'of', 'a', 'woman', 'angri', 'angri', 'angri', 'in', 'distress', 'that', 'manag', 'to', 'feel', 'psycholog', 'psycholog', 'psycholog', 'pack', 'with', 'feel', 'despit', 'it', 'angri', 'angri', 'airi', 'presentation—but', 'more', 'than', 'that', ',', 'thi', 'psycholog', 's', 'is', 'an', 'angri', 'book', ',', 'and', 'the', 'shimmer', 'off', 'the', 'character\\\\', \"'s\", 'rage', 'is', 'grip', 'all', 'on', 'it', 'own', 'a', 'psycholog', 'portrait', 'of', 'a', 'woman', 'angri', 'angri', 'angri', 'in', 'distress', 'that', 'manag', 'to', 'feel', 'psycholog', 'psycholog', 'psycholog', 'pack', 'with', 'feel', 'despit', 'it', 'angri', 'angri', 'airi', 'presentation—but', 'more', 'than', 'that', ',', 'thi', 'psycholog', 's', 'is', 'an', 'angri', 'book', ',', 'and', 'the', 'shimmer', 'off', 'the', 'character\\\\', \"'s\", 'rage', 'is', 'grip', 'all', 'on', 'it', 'own', 'a', 'psycholog', 'portrait', 'of', 'a', 'woman', 'angri', 'angri', 'angri', 'in', 'distress', 'that', 'manag', 'to', 'feel', 'psycholog', 'psycholog', 'psycholog', 'pack', 'with', 'feel', 'despit', 'it', 'angri', 'angri', 'airi', 'presentation—but', 'more', 'than', 'that', ',', 'thi', 'psycholog', 's', 'is', 'an', 'angri', 'book', ',', 'and', 'the', 'shimmer', 'off', 'the', 'character\\\\', \"'s\", 'rage', 'is', 'grip', 'all', 'on', 'it', 'own']\n"
     ]
    }
   ],
   "source": [
    "leme=[]\n",
    "for i in stem:\n",
    "  lemetized_word=lemmatizer.lemmatize(i)\n",
    "  leme.append(lemetized_word)\n",
    "print(leme)"
   ]
  },
  {
   "cell_type": "markdown",
   "metadata": {
    "id": "j40kX6zF8tfU"
   },
   "source": [
    "## POS (Parts of Speech) Tagging"
   ]
  },
  {
   "cell_type": "code",
   "execution_count": null,
   "metadata": {
    "colab": {
     "base_uri": "https://localhost:8080/"
    },
    "id": "fInYlozsAuDM",
    "outputId": "0fec2472-0f64-4736-95c5-e739b110ab4f"
   },
   "outputs": [
    {
     "name": "stdout",
     "output_type": "stream",
     "text": [
      "Parts of Speech:  [('a', 'DT'), ('psycholog', 'NN'), ('portrait', 'NN'), ('of', 'IN'), ('a', 'DT'), ('woman', 'NN'), ('angri', 'NN'), ('angri', 'NN'), ('angri', 'NN'), ('in', 'IN'), ('distress', 'NN'), ('that', 'WDT'), ('manag', 'VBZ'), ('to', 'TO'), ('feel', 'VB'), ('psycholog', 'JJ'), ('psycholog', 'NN'), ('psycholog', 'NN'), ('pack', 'NN'), ('with', 'IN'), ('feel', 'NN'), ('despit', 'NN'), ('it', 'PRP'), ('angri', 'VBZ'), ('angri', 'JJ'), ('airi', 'NN'), ('presentation—but', 'NN'), ('more', 'JJR'), ('than', 'IN'), ('that', 'DT'), (',', ','), ('thi', 'EX'), ('psycholog', 'NN'), ('s', 'NN'), ('is', 'VBZ'), ('an', 'DT'), ('angri', 'JJ'), ('book', 'NN'), (',', ','), ('and', 'CC'), ('the', 'DT'), ('shimmer', 'JJR'), ('off', 'IN'), ('the', 'DT'), ('character\\\\', 'NN'), (\"'s\", 'POS'), ('rage', 'NN'), ('is', 'VBZ'), ('grip', 'VBN'), ('all', 'DT'), ('on', 'IN'), ('it', 'PRP'), ('own', 'RP'), ('a', 'DT'), ('psycholog', 'NN'), ('portrait', 'NN'), ('of', 'IN'), ('a', 'DT'), ('woman', 'NN'), ('angri', 'NN'), ('angri', 'NN'), ('angri', 'NN'), ('in', 'IN'), ('distress', 'NN'), ('that', 'WDT'), ('manag', 'VBZ'), ('to', 'TO'), ('feel', 'VB'), ('psycholog', 'JJ'), ('psycholog', 'NN'), ('psycholog', 'NN'), ('pack', 'NN'), ('with', 'IN'), ('feel', 'NN'), ('despit', 'NN'), ('it', 'PRP'), ('angri', 'VBZ'), ('angri', 'JJ'), ('airi', 'NN'), ('presentation—but', 'NN'), ('more', 'JJR'), ('than', 'IN'), ('that', 'DT'), (',', ','), ('thi', 'EX'), ('psycholog', 'NN'), ('s', 'NN'), ('is', 'VBZ'), ('an', 'DT'), ('angri', 'JJ'), ('book', 'NN'), (',', ','), ('and', 'CC'), ('the', 'DT'), ('shimmer', 'JJR'), ('off', 'IN'), ('the', 'DT'), ('character\\\\', 'NN'), (\"'s\", 'POS'), ('rage', 'NN'), ('is', 'VBZ'), ('grip', 'VBN'), ('all', 'DT'), ('on', 'IN'), ('it', 'PRP'), ('own', 'RP'), ('a', 'DT'), ('psycholog', 'NN'), ('portrait', 'NN'), ('of', 'IN'), ('a', 'DT'), ('woman', 'NN'), ('angri', 'NN'), ('angri', 'NN'), ('angri', 'NN'), ('in', 'IN'), ('distress', 'NN'), ('that', 'WDT'), ('manag', 'VBZ'), ('to', 'TO'), ('feel', 'VB'), ('psycholog', 'JJ'), ('psycholog', 'NN'), ('psycholog', 'NN'), ('pack', 'NN'), ('with', 'IN'), ('feel', 'NN'), ('despit', 'NN'), ('it', 'PRP'), ('angri', 'VBZ'), ('angri', 'JJ'), ('airi', 'NN'), ('presentation—but', 'NN'), ('more', 'JJR'), ('than', 'IN'), ('that', 'DT'), (',', ','), ('thi', 'EX'), ('psycholog', 'NN'), ('s', 'NN'), ('is', 'VBZ'), ('an', 'DT'), ('angri', 'JJ'), ('book', 'NN'), (',', ','), ('and', 'CC'), ('the', 'DT'), ('shimmer', 'JJR'), ('off', 'IN'), ('the', 'DT'), ('character\\\\', 'NN'), (\"'s\", 'POS'), ('rage', 'NN'), ('is', 'VBZ'), ('grip', 'VBN'), ('all', 'DT'), ('on', 'IN'), ('it', 'PRP'), ('own', 'RP'), ('a', 'DT'), ('psycholog', 'NN'), ('portrait', 'NN'), ('of', 'IN'), ('a', 'DT'), ('woman', 'NN'), ('angri', 'NN'), ('angri', 'NN'), ('angri', 'NN'), ('in', 'IN'), ('distress', 'NN'), ('that', 'WDT'), ('manag', 'VBZ'), ('to', 'TO'), ('feel', 'VB'), ('psycholog', 'JJ'), ('psycholog', 'NN'), ('psycholog', 'NN'), ('pack', 'NN'), ('with', 'IN'), ('feel', 'NN'), ('despit', 'NN'), ('it', 'PRP'), ('angri', 'VBZ'), ('angri', 'JJ'), ('airi', 'NN'), ('presentation—but', 'NN'), ('more', 'JJR'), ('than', 'IN'), ('that', 'DT'), (',', ','), ('thi', 'EX'), ('psycholog', 'NN'), ('s', 'NN'), ('is', 'VBZ'), ('an', 'DT'), ('angri', 'JJ'), ('book', 'NN'), (',', ','), ('and', 'CC'), ('the', 'DT'), ('shimmer', 'JJR'), ('off', 'IN'), ('the', 'DT'), ('character\\\\', 'NN'), (\"'s\", 'POS'), ('rage', 'NN'), ('is', 'VBZ'), ('grip', 'VBN'), ('all', 'DT'), ('on', 'IN'), ('it', 'PRP'), ('own', 'RP'), ('a', 'DT'), ('psycholog', 'NN'), ('portrait', 'NN'), ('of', 'IN'), ('a', 'DT'), ('woman', 'NN'), ('angri', 'NN'), ('angri', 'NN'), ('angri', 'NN'), ('in', 'IN'), ('distress', 'NN'), ('that', 'WDT'), ('manag', 'VBZ'), ('to', 'TO'), ('feel', 'VB'), ('psycholog', 'JJ'), ('psycholog', 'NN'), ('psycholog', 'NN'), ('pack', 'NN'), ('with', 'IN'), ('feel', 'NN'), ('despit', 'NN'), ('it', 'PRP'), ('angri', 'VBZ'), ('angri', 'JJ'), ('airi', 'NN'), ('presentation—but', 'NN'), ('more', 'JJR'), ('than', 'IN'), ('that', 'DT'), (',', ','), ('thi', 'EX'), ('psycholog', 'NN'), ('s', 'NN'), ('is', 'VBZ'), ('an', 'DT'), ('angri', 'JJ'), ('book', 'NN'), (',', ','), ('and', 'CC'), ('the', 'DT'), ('shimmer', 'JJR'), ('off', 'IN'), ('the', 'DT'), ('character\\\\', 'NN'), (\"'s\", 'POS'), ('rage', 'NN'), ('is', 'VBZ'), ('grip', 'VBN'), ('all', 'DT'), ('on', 'IN'), ('it', 'PRP'), ('own', 'JJ')]\n"
     ]
    }
   ],
   "source": [
    "print(\"Parts of Speech: \",nltk.pos_tag(leme))"
   ]
  },
  {
   "cell_type": "markdown",
   "metadata": {
    "id": "R6wQqm_n8xfL"
   },
   "source": [
    "## Stopwords in sentence"
   ]
  },
  {
   "cell_type": "code",
   "execution_count": null,
   "metadata": {
    "colab": {
     "base_uri": "https://localhost:8080/"
    },
    "id": "Vc6kR19_Avvw",
    "outputId": "48e34359-f958-4b42-b9b9-dea87bf49760"
   },
   "outputs": [
    {
     "name": "stdout",
     "output_type": "stream",
     "text": [
      "['i', 'me', 'my', 'myself', 'we', 'our', 'ours', 'ourselves', 'you', \"you're\", \"you've\", \"you'll\", \"you'd\", 'your', 'yours', 'yourself', 'yourselves', 'he', 'him', 'his', 'himself', 'she', \"she's\", 'her', 'hers', 'herself', 'it', \"it's\", 'its', 'itself', 'they', 'them', 'their', 'theirs', 'themselves', 'what', 'which', 'who', 'whom', 'this', 'that', \"that'll\", 'these', 'those', 'am', 'is', 'are', 'was', 'were', 'be', 'been', 'being', 'have', 'has', 'had', 'having', 'do', 'does', 'did', 'doing', 'a', 'an', 'the', 'and', 'but', 'if', 'or', 'because', 'as', 'until', 'while', 'of', 'at', 'by', 'for', 'with', 'about', 'against', 'between', 'into', 'through', 'during', 'before', 'after', 'above', 'below', 'to', 'from', 'up', 'down', 'in', 'out', 'on', 'off', 'over', 'under', 'again', 'further', 'then', 'once', 'here', 'there', 'when', 'where', 'why', 'how', 'all', 'any', 'both', 'each', 'few', 'more', 'most', 'other', 'some', 'such', 'no', 'nor', 'not', 'only', 'own', 'same', 'so', 'than', 'too', 'very', 's', 't', 'can', 'will', 'just', 'don', \"don't\", 'should', \"should've\", 'now', 'd', 'll', 'm', 'o', 're', 've', 'y', 'ain', 'aren', \"aren't\", 'couldn', \"couldn't\", 'didn', \"didn't\", 'doesn', \"doesn't\", 'hadn', \"hadn't\", 'hasn', \"hasn't\", 'haven', \"haven't\", 'isn', \"isn't\", 'ma', 'mightn', \"mightn't\", 'mustn', \"mustn't\", 'needn', \"needn't\", 'shan', \"shan't\", 'shouldn', \"shouldn't\", 'wasn', \"wasn't\", 'weren', \"weren't\", 'won', \"won't\", 'wouldn', \"wouldn't\"]\n"
     ]
    }
   ],
   "source": [
    "sw_nltk = stopwords.words('english')\n",
    "print(sw_nltk)"
   ]
  },
  {
   "cell_type": "markdown",
   "metadata": {
    "id": "lFeIxDZF84nD"
   },
   "source": [
    "## Words that aren't stopwords in sentence"
   ]
  },
  {
   "cell_type": "code",
   "execution_count": null,
   "metadata": {
    "colab": {
     "base_uri": "https://localhost:8080/"
    },
    "id": "cfq0Xu21Axj3",
    "outputId": "eae71fa6-4d6c-4073-9b42-b1413a5d7039"
   },
   "outputs": [
    {
     "name": "stdout",
     "output_type": "stream",
     "text": [
      "psychological portrait woman distress manages feel packed feeling despite airy presentation—but that, angry book, shimmer character's rage gripping\n"
     ]
    }
   ],
   "source": [
    "words = [word for word in text.split() if word.lower() not in sw_nltk]\n",
    "new_text = \" \".join(words)\n",
    "print(new_text)"
   ]
  },
  {
   "cell_type": "markdown",
   "metadata": {
    "id": "uwXblxTg_JK8"
   },
   "source": [
    "## Calculating TF-IDF"
   ]
  },
  {
   "cell_type": "code",
   "execution_count": null,
   "metadata": {
    "id": "7OuqgbRuJqez"
   },
   "outputs": [],
   "source": [
    "text_op = []\n",
    "with open('text3.txt', 'r') as file:\n",
    "  for line in file:\n",
    "    text_op.append(line)"
   ]
  },
  {
   "cell_type": "code",
   "execution_count": null,
   "metadata": {
    "id": "RRniWKPzAy8N"
   },
   "outputs": [],
   "source": [
    "from sklearn.feature_extraction.text import TfidfVectorizer"
   ]
  },
  {
   "cell_type": "code",
   "execution_count": null,
   "metadata": {
    "colab": {
     "base_uri": "https://localhost:8080/"
    },
    "id": "034BhlZZ_0wM",
    "outputId": "f01ec5b0-0786-4dba-e334-8c46513126ee"
   },
   "outputs": [
    {
     "name": "stdout",
     "output_type": "stream",
     "text": [
      "['A psychological portrait of a woman angry angry angry in distress that manages to feel psychological psychological psychological packed with \\n', \"feeling despite its angry angry airy presentation—but more than that, thi psychological s is an angry book, and the shimmer off the character\\\\'s\\n\", ' rage is gripping all on its own A psychological portrait of a woman angry angry angry in distress that manages to feel psychological psychological\\n', ' psychological packed with feeling despite its angry angry airy presentation—but more than that, thi psychological s is an angry book, and the \\n', \"shimmer off the character\\\\'s rage is gripping all on its own A psychological portrait of a woman angry angry angry in distress that manages to\\n\", ' feel psychological psychological psychological packed with feeling despite its angry angry airy presentation—but more than that, thi\\n', \" psychological s is an angry book, and the shimmer off the character\\\\'s rage is gripping all on its own A psychological portrait of a\\n\", ' woman angry angry angry in distress that manages to feel psychological psychological psychological packed with feeling despite its angry\\n', \" angry airy presentation—but more than that, thi psychological s is an angry book, and the shimmer off the character\\\\'s rage is gripping\\n\", ' all on its own A psychological portrait of a woman angry angry angry in distress that manages to feel psychological psychological\\n', ' psychological packed with feeling despite its angry angry airy presentation—but more than that, thi psychological s is an angry book\\n', \", and the shimmer off the character\\\\'s rage is gripping all on its own\"]\n"
     ]
    }
   ],
   "source": [
    "tr_idf_model  = TfidfVectorizer(stop_words='english')\n",
    "corpus = text_op\n",
    "tf_idf_vector = tr_idf_model.fit_transform(corpus)\n",
    "print(corpus)"
   ]
  },
  {
   "cell_type": "code",
   "execution_count": null,
   "metadata": {
    "colab": {
     "base_uri": "https://localhost:8080/"
    },
    "id": "j3EShqgfALQr",
    "outputId": "09f798db-cdb7-4dc6-8846-f3446a76479c"
   },
   "outputs": [
    {
     "name": "stdout",
     "output_type": "stream",
     "text": [
      "<class 'scipy.sparse._csr.csr_matrix'>\n",
      "(12, 18)\n"
     ]
    }
   ],
   "source": [
    "print(type(tf_idf_vector))\n",
    "print(tf_idf_vector.shape)"
   ]
  },
  {
   "cell_type": "code",
   "execution_count": null,
   "metadata": {
    "colab": {
     "base_uri": "https://localhost:8080/"
    },
    "id": "9v6hHGdpAvDL",
    "outputId": "b97d7643-3f9f-4d17-ce4e-b050a1fcd930"
   },
   "outputs": [
    {
     "name": "stdout",
     "output_type": "stream",
     "text": [
      "[[0.         0.4675382  0.         0.         0.         0.25586458\n",
      "  0.25586458 0.         0.         0.25586458 0.25586458 0.25586458\n",
      "  0.         0.62338427 0.         0.         0.         0.25586458]\n",
      " [0.29222809 0.5339848  0.29222809 0.29222809 0.29222809 0.\n",
      "  0.         0.29222809 0.         0.         0.         0.\n",
      "  0.29222809 0.17799493 0.         0.29222809 0.29222809 0.        ]\n",
      " [0.         0.49407884 0.         0.         0.         0.27038919\n",
      "  0.27038919 0.         0.27038919 0.27038919 0.         0.27038919\n",
      "  0.         0.49407884 0.27038919 0.         0.         0.27038919]\n",
      " [0.29082831 0.531427   0.29082831 0.         0.29082831 0.\n",
      "  0.         0.29082831 0.         0.         0.29082831 0.\n",
      "  0.29082831 0.35428466 0.         0.         0.29082831 0.        ]\n",
      " [0.         0.5339848  0.         0.29222809 0.         0.29222809\n",
      "  0.         0.         0.29222809 0.29222809 0.         0.29222809\n",
      "  0.         0.17799493 0.29222809 0.29222809 0.         0.29222809]\n",
      " [0.29082831 0.35428466 0.         0.         0.29082831 0.\n",
      "  0.29082831 0.29082831 0.         0.         0.29082831 0.\n",
      "  0.29082831 0.531427   0.         0.         0.29082831 0.        ]\n",
      " [0.         0.2173266  0.35680194 0.35680194 0.         0.\n",
      "  0.         0.         0.35680194 0.         0.         0.35680194\n",
      "  0.         0.4346532  0.35680194 0.35680194 0.         0.        ]\n",
      " [0.         0.60392902 0.         0.         0.24787928 0.24787928\n",
      "  0.24787928 0.24787928 0.         0.24787928 0.24787928 0.\n",
      "  0.         0.45294677 0.         0.         0.         0.24787928]\n",
      " [0.31854583 0.38804992 0.31854583 0.31854583 0.         0.\n",
      "  0.         0.         0.31854583 0.         0.         0.\n",
      "  0.31854583 0.19402496 0.31854583 0.31854583 0.31854583 0.        ]\n",
      " [0.         0.53471631 0.         0.         0.         0.29262841\n",
      "  0.29262841 0.         0.         0.29262841 0.         0.29262841\n",
      "  0.         0.53471631 0.         0.         0.         0.29262841]\n",
      " [0.29082831 0.531427   0.29082831 0.         0.29082831 0.\n",
      "  0.         0.29082831 0.         0.         0.29082831 0.\n",
      "  0.29082831 0.35428466 0.         0.         0.29082831 0.        ]\n",
      " [0.         0.         0.         0.5        0.         0.\n",
      "  0.         0.         0.5        0.         0.         0.\n",
      "  0.         0.         0.5        0.5        0.         0.        ]]\n"
     ]
    }
   ],
   "source": [
    "tf_idf_array = tf_idf_vector.toarray()\n",
    "print(tf_idf_array)"
   ]
  },
  {
   "cell_type": "code",
   "execution_count": null,
   "metadata": {
    "colab": {
     "base_uri": "https://localhost:8080/"
    },
    "id": "mo46eQVvA_qr",
    "outputId": "0660f6eb-da09-4873-ba7f-36ec22106089"
   },
   "outputs": [
    {
     "name": "stdout",
     "output_type": "stream",
     "text": [
      "['airy' 'angry' 'book' 'character' 'despite' 'distress' 'feel' 'feeling'\n",
      " 'gripping' 'manages' 'packed' 'portrait' 'presentation' 'psychological'\n",
      " 'rage' 'shimmer' 'thi' 'woman']\n"
     ]
    }
   ],
   "source": [
    "words_set = tr_idf_model.get_feature_names_out()\n",
    "print(words_set)"
   ]
  },
  {
   "cell_type": "code",
   "execution_count": null,
   "metadata": {
    "colab": {
     "base_uri": "https://localhost:8080/",
     "height": 320
    },
    "id": "EdSgx4evBGGj",
    "outputId": "4a5dc12a-ff2e-4dd9-e88d-3333056cec5e"
   },
   "outputs": [
    {
     "data": {
      "application/vnd.google.colaboratory.intrinsic+json": {
       "summary": "{\n  \"name\": \"df_tf_idf\",\n  \"rows\": 8,\n  \"fields\": [\n    {\n      \"column\": \"airy\",\n      \"properties\": {\n        \"dtype\": \"number\",\n        \"std\": 4.1998108413620585,\n        \"min\": 0.0,\n        \"max\": 12.0,\n        \"num_unique_values\": 6,\n        \"samples\": [\n          12.0,\n          0.12360490305792891,\n          0.31854583064456854\n        ],\n        \"semantic_type\": \"\",\n        \"description\": \"\"\n      }\n    },\n    {\n      \"column\": \"angry\",\n      \"properties\": {\n        \"dtype\": \"number\",\n        \"std\": 4.1144406379838605,\n        \"min\": 0.0,\n        \"max\": 12.0,\n        \"num_unique_values\": 8,\n        \"samples\": [\n          0.43256226253595736,\n          0.5127529199755666,\n          12.0\n        ],\n        \"semantic_type\": \"\",\n        \"description\": \"\"\n      }\n    },\n    {\n      \"column\": \"book\",\n      \"properties\": {\n        \"dtype\": \"number\",\n        \"std\": 4.197480827425758,\n        \"min\": 0.0,\n        \"max\": 12.0,\n        \"num_unique_values\": 6,\n        \"samples\": [\n          12.0,\n          0.12910270577444452,\n          0.35680193886856104\n        ],\n        \"semantic_type\": \"\",\n        \"description\": \"\"\n      }\n    },\n    {\n      \"column\": \"character\",\n      \"properties\": {\n        \"dtype\": \"number\",\n        \"std\": 4.188986715967527,\n        \"min\": 0.0,\n        \"max\": 12.0,\n        \"num_unique_values\": 6,\n        \"samples\": [\n          12.0,\n          0.14665032866600372,\n          0.5\n        ],\n        \"semantic_type\": \"\",\n        \"description\": \"\"\n      }\n    },\n    {\n      \"column\": \"despite\",\n      \"properties\": {\n        \"dtype\": \"number\",\n        \"std\": 4.201621562538522,\n        \"min\": 0.0,\n        \"max\": 12.0,\n        \"num_unique_values\": 6,\n        \"samples\": [\n          12.0,\n          0.11771602384750257,\n          0.29222808723945765\n        ],\n        \"semantic_type\": \"\",\n        \"description\": \"\"\n      }\n    },\n    {\n      \"column\": \"distress\",\n      \"properties\": {\n        \"dtype\": \"number\",\n        \"std\": 4.203514409934804,\n        \"min\": 0.0,\n        \"max\": 12.0,\n        \"num_unique_values\": 6,\n        \"samples\": [\n          12.0,\n          0.11324912867711982,\n          0.29262841289434544\n        ],\n        \"semantic_type\": \"\",\n        \"description\": \"\"\n      }\n    },\n    {\n      \"column\": \"feel\",\n      \"properties\": {\n        \"dtype\": \"number\",\n        \"std\": 4.20352832761629,\n        \"min\": 0.0,\n        \"max\": 12.0,\n        \"num_unique_values\": 6,\n        \"samples\": [\n          12.0,\n          0.11313248026302948,\n          0.29262841289434544\n        ],\n        \"semantic_type\": \"\",\n        \"description\": \"\"\n      }\n    },\n    {\n      \"column\": \"feeling\",\n      \"properties\": {\n        \"dtype\": \"number\",\n        \"std\": 4.201621562538522,\n        \"min\": 0.0,\n        \"max\": 12.0,\n        \"num_unique_values\": 6,\n        \"samples\": [\n          12.0,\n          0.11771602384750257,\n          0.29222808723945765\n        ],\n        \"semantic_type\": \"\",\n        \"description\": \"\"\n      }\n    },\n    {\n      \"column\": \"gripping\",\n      \"properties\": {\n        \"dtype\": \"number\",\n        \"std\": 4.18915054429707,\n        \"min\": 0.0,\n        \"max\": 12.0,\n        \"num_unique_values\": 6,\n        \"samples\": [\n          12.0,\n          0.14483042038085248,\n          0.5\n        ],\n        \"semantic_type\": \"\",\n        \"description\": \"\"\n      }\n    },\n    {\n      \"column\": \"manages\",\n      \"properties\": {\n        \"dtype\": \"number\",\n        \"std\": 4.203514409934804,\n        \"min\": 0.0,\n        \"max\": 12.0,\n        \"num_unique_values\": 6,\n        \"samples\": [\n          12.0,\n          0.11324912867711982,\n          0.29262841289434544\n        ],\n        \"semantic_type\": \"\",\n        \"description\": \"\"\n      }\n    },\n    {\n      \"column\": \"packed\",\n      \"properties\": {\n        \"dtype\": \"number\",\n        \"std\": 4.203198860420358,\n        \"min\": 0.0,\n        \"max\": 12.0,\n        \"num_unique_values\": 6,\n        \"samples\": [\n          12.0,\n          0.11468573124875941,\n          0.29082830627037354\n        ],\n        \"semantic_type\": \"\",\n        \"description\": \"\"\n      }\n    },\n    {\n      \"column\": \"portrait\",\n      \"properties\": {\n        \"dtype\": \"number\",\n        \"std\": 4.198893040890064,\n        \"min\": 0.0,\n        \"max\": 12.0,\n        \"num_unique_values\": 6,\n        \"samples\": [\n          12.0,\n          0.1223260169062122,\n          0.35680193886856104\n        ],\n        \"semantic_type\": \"\",\n        \"description\": \"\"\n      }\n    },\n    {\n      \"column\": \"presentation\",\n      \"properties\": {\n        \"dtype\": \"number\",\n        \"std\": 4.1998108413620585,\n        \"min\": 0.0,\n        \"max\": 12.0,\n        \"num_unique_values\": 6,\n        \"samples\": [\n          12.0,\n          0.12360490305792891,\n          0.31854583064456854\n        ],\n        \"semantic_type\": \"\",\n        \"description\": \"\"\n      }\n    },\n    {\n      \"column\": \"psychological\",\n      \"properties\": {\n        \"dtype\": \"number\",\n        \"std\": 4.133200840783934,\n        \"min\": 0.0,\n        \"max\": 12.0,\n        \"num_unique_values\": 8,\n        \"samples\": [\n          0.36081587821140976,\n          0.3944689331766761,\n          12.0\n        ],\n        \"semantic_type\": \"\",\n        \"description\": \"\"\n      }\n    },\n    {\n      \"column\": \"rage\",\n      \"properties\": {\n        \"dtype\": \"number\",\n        \"std\": 4.18915054429707,\n        \"min\": 0.0,\n        \"max\": 12.0,\n        \"num_unique_values\": 6,\n        \"samples\": [\n          12.0,\n          0.14483042038085248,\n          0.5\n        ],\n        \"semantic_type\": \"\",\n        \"description\": \"\"\n      }\n    },\n    {\n      \"column\": \"shimmer\",\n      \"properties\": {\n        \"dtype\": \"number\",\n        \"std\": 4.188986715967527,\n        \"min\": 0.0,\n        \"max\": 12.0,\n        \"num_unique_values\": 6,\n        \"samples\": [\n          12.0,\n          0.14665032866600372,\n          0.5\n        ],\n        \"semantic_type\": \"\",\n        \"description\": \"\"\n      }\n    },\n    {\n      \"column\": \"thi\",\n      \"properties\": {\n        \"dtype\": \"number\",\n        \"std\": 4.1998108413620585,\n        \"min\": 0.0,\n        \"max\": 12.0,\n        \"num_unique_values\": 6,\n        \"samples\": [\n          12.0,\n          0.12360490305792891,\n          0.31854583064456854\n        ],\n        \"semantic_type\": \"\",\n        \"description\": \"\"\n      }\n    },\n    {\n      \"column\": \"woman\",\n      \"properties\": {\n        \"dtype\": \"number\",\n        \"std\": 4.203514409934804,\n        \"min\": 0.0,\n        \"max\": 12.0,\n        \"num_unique_values\": 6,\n        \"samples\": [\n          12.0,\n          0.11324912867711982,\n          0.29262841289434544\n        ],\n        \"semantic_type\": \"\",\n        \"description\": \"\"\n      }\n    }\n  ]\n}",
       "type": "dataframe"
      },
      "text/html": [
       "\n",
       "  <div id=\"df-ad18f3c2-eace-4ad9-bad3-9b72bba1d562\" class=\"colab-df-container\">\n",
       "    <div>\n",
       "<style scoped>\n",
       "    .dataframe tbody tr th:only-of-type {\n",
       "        vertical-align: middle;\n",
       "    }\n",
       "\n",
       "    .dataframe tbody tr th {\n",
       "        vertical-align: top;\n",
       "    }\n",
       "\n",
       "    .dataframe thead th {\n",
       "        text-align: right;\n",
       "    }\n",
       "</style>\n",
       "<table border=\"1\" class=\"dataframe\">\n",
       "  <thead>\n",
       "    <tr style=\"text-align: right;\">\n",
       "      <th></th>\n",
       "      <th>airy</th>\n",
       "      <th>angry</th>\n",
       "      <th>book</th>\n",
       "      <th>character</th>\n",
       "      <th>despite</th>\n",
       "      <th>distress</th>\n",
       "      <th>feel</th>\n",
       "      <th>feeling</th>\n",
       "      <th>gripping</th>\n",
       "      <th>manages</th>\n",
       "      <th>packed</th>\n",
       "      <th>portrait</th>\n",
       "      <th>presentation</th>\n",
       "      <th>psychological</th>\n",
       "      <th>rage</th>\n",
       "      <th>shimmer</th>\n",
       "      <th>thi</th>\n",
       "      <th>woman</th>\n",
       "    </tr>\n",
       "  </thead>\n",
       "  <tbody>\n",
       "    <tr>\n",
       "      <th>count</th>\n",
       "      <td>12.000000</td>\n",
       "      <td>12.000000</td>\n",
       "      <td>12.000000</td>\n",
       "      <td>12.000000</td>\n",
       "      <td>12.000000</td>\n",
       "      <td>12.000000</td>\n",
       "      <td>12.000000</td>\n",
       "      <td>12.000000</td>\n",
       "      <td>12.000000</td>\n",
       "      <td>12.000000</td>\n",
       "      <td>12.000000</td>\n",
       "      <td>12.000000</td>\n",
       "      <td>12.000000</td>\n",
       "      <td>12.000000</td>\n",
       "      <td>12.000000</td>\n",
       "      <td>12.000000</td>\n",
       "      <td>12.000000</td>\n",
       "      <td>12.000000</td>\n",
       "    </tr>\n",
       "    <tr>\n",
       "      <th>mean</th>\n",
       "      <td>0.123605</td>\n",
       "      <td>0.432562</td>\n",
       "      <td>0.129103</td>\n",
       "      <td>0.146650</td>\n",
       "      <td>0.117716</td>\n",
       "      <td>0.113249</td>\n",
       "      <td>0.113132</td>\n",
       "      <td>0.117716</td>\n",
       "      <td>0.144830</td>\n",
       "      <td>0.113249</td>\n",
       "      <td>0.114686</td>\n",
       "      <td>0.122326</td>\n",
       "      <td>0.123605</td>\n",
       "      <td>0.360816</td>\n",
       "      <td>0.144830</td>\n",
       "      <td>0.146650</td>\n",
       "      <td>0.123605</td>\n",
       "      <td>0.113249</td>\n",
       "    </tr>\n",
       "    <tr>\n",
       "      <th>std</th>\n",
       "      <td>0.152933</td>\n",
       "      <td>0.172278</td>\n",
       "      <td>0.160490</td>\n",
       "      <td>0.188655</td>\n",
       "      <td>0.145945</td>\n",
       "      <td>0.140501</td>\n",
       "      <td>0.140339</td>\n",
       "      <td>0.145945</td>\n",
       "      <td>0.187223</td>\n",
       "      <td>0.140501</td>\n",
       "      <td>0.142325</td>\n",
       "      <td>0.152956</td>\n",
       "      <td>0.152933</td>\n",
       "      <td>0.187066</td>\n",
       "      <td>0.187223</td>\n",
       "      <td>0.188655</td>\n",
       "      <td>0.152933</td>\n",
       "      <td>0.140501</td>\n",
       "    </tr>\n",
       "    <tr>\n",
       "      <th>min</th>\n",
       "      <td>0.000000</td>\n",
       "      <td>0.000000</td>\n",
       "      <td>0.000000</td>\n",
       "      <td>0.000000</td>\n",
       "      <td>0.000000</td>\n",
       "      <td>0.000000</td>\n",
       "      <td>0.000000</td>\n",
       "      <td>0.000000</td>\n",
       "      <td>0.000000</td>\n",
       "      <td>0.000000</td>\n",
       "      <td>0.000000</td>\n",
       "      <td>0.000000</td>\n",
       "      <td>0.000000</td>\n",
       "      <td>0.000000</td>\n",
       "      <td>0.000000</td>\n",
       "      <td>0.000000</td>\n",
       "      <td>0.000000</td>\n",
       "      <td>0.000000</td>\n",
       "    </tr>\n",
       "    <tr>\n",
       "      <th>25%</th>\n",
       "      <td>0.000000</td>\n",
       "      <td>0.379609</td>\n",
       "      <td>0.000000</td>\n",
       "      <td>0.000000</td>\n",
       "      <td>0.000000</td>\n",
       "      <td>0.000000</td>\n",
       "      <td>0.000000</td>\n",
       "      <td>0.000000</td>\n",
       "      <td>0.000000</td>\n",
       "      <td>0.000000</td>\n",
       "      <td>0.000000</td>\n",
       "      <td>0.000000</td>\n",
       "      <td>0.000000</td>\n",
       "      <td>0.190017</td>\n",
       "      <td>0.000000</td>\n",
       "      <td>0.000000</td>\n",
       "      <td>0.000000</td>\n",
       "      <td>0.000000</td>\n",
       "    </tr>\n",
       "    <tr>\n",
       "      <th>50%</th>\n",
       "      <td>0.000000</td>\n",
       "      <td>0.512753</td>\n",
       "      <td>0.000000</td>\n",
       "      <td>0.000000</td>\n",
       "      <td>0.000000</td>\n",
       "      <td>0.000000</td>\n",
       "      <td>0.000000</td>\n",
       "      <td>0.000000</td>\n",
       "      <td>0.000000</td>\n",
       "      <td>0.000000</td>\n",
       "      <td>0.000000</td>\n",
       "      <td>0.000000</td>\n",
       "      <td>0.000000</td>\n",
       "      <td>0.394469</td>\n",
       "      <td>0.000000</td>\n",
       "      <td>0.000000</td>\n",
       "      <td>0.000000</td>\n",
       "      <td>0.000000</td>\n",
       "    </tr>\n",
       "    <tr>\n",
       "      <th>75%</th>\n",
       "      <td>0.290828</td>\n",
       "      <td>0.533985</td>\n",
       "      <td>0.291178</td>\n",
       "      <td>0.298808</td>\n",
       "      <td>0.290828</td>\n",
       "      <td>0.259496</td>\n",
       "      <td>0.259496</td>\n",
       "      <td>0.290828</td>\n",
       "      <td>0.298808</td>\n",
       "      <td>0.259496</td>\n",
       "      <td>0.264606</td>\n",
       "      <td>0.275849</td>\n",
       "      <td>0.290828</td>\n",
       "      <td>0.503416</td>\n",
       "      <td>0.298808</td>\n",
       "      <td>0.298808</td>\n",
       "      <td>0.290828</td>\n",
       "      <td>0.259496</td>\n",
       "    </tr>\n",
       "    <tr>\n",
       "      <th>max</th>\n",
       "      <td>0.318546</td>\n",
       "      <td>0.603929</td>\n",
       "      <td>0.356802</td>\n",
       "      <td>0.500000</td>\n",
       "      <td>0.292228</td>\n",
       "      <td>0.292628</td>\n",
       "      <td>0.292628</td>\n",
       "      <td>0.292228</td>\n",
       "      <td>0.500000</td>\n",
       "      <td>0.292628</td>\n",
       "      <td>0.290828</td>\n",
       "      <td>0.356802</td>\n",
       "      <td>0.318546</td>\n",
       "      <td>0.623384</td>\n",
       "      <td>0.500000</td>\n",
       "      <td>0.500000</td>\n",
       "      <td>0.318546</td>\n",
       "      <td>0.292628</td>\n",
       "    </tr>\n",
       "  </tbody>\n",
       "</table>\n",
       "</div>\n",
       "    <div class=\"colab-df-buttons\">\n",
       "\n",
       "  <div class=\"colab-df-container\">\n",
       "    <button class=\"colab-df-convert\" onclick=\"convertToInteractive('df-ad18f3c2-eace-4ad9-bad3-9b72bba1d562')\"\n",
       "            title=\"Convert this dataframe to an interactive table.\"\n",
       "            style=\"display:none;\">\n",
       "\n",
       "  <svg xmlns=\"http://www.w3.org/2000/svg\" height=\"24px\" viewBox=\"0 -960 960 960\">\n",
       "    <path d=\"M120-120v-720h720v720H120Zm60-500h600v-160H180v160Zm220 220h160v-160H400v160Zm0 220h160v-160H400v160ZM180-400h160v-160H180v160Zm440 0h160v-160H620v160ZM180-180h160v-160H180v160Zm440 0h160v-160H620v160Z\"/>\n",
       "  </svg>\n",
       "    </button>\n",
       "\n",
       "  <style>\n",
       "    .colab-df-container {\n",
       "      display:flex;\n",
       "      gap: 12px;\n",
       "    }\n",
       "\n",
       "    .colab-df-convert {\n",
       "      background-color: #E8F0FE;\n",
       "      border: none;\n",
       "      border-radius: 50%;\n",
       "      cursor: pointer;\n",
       "      display: none;\n",
       "      fill: #1967D2;\n",
       "      height: 32px;\n",
       "      padding: 0 0 0 0;\n",
       "      width: 32px;\n",
       "    }\n",
       "\n",
       "    .colab-df-convert:hover {\n",
       "      background-color: #E2EBFA;\n",
       "      box-shadow: 0px 1px 2px rgba(60, 64, 67, 0.3), 0px 1px 3px 1px rgba(60, 64, 67, 0.15);\n",
       "      fill: #174EA6;\n",
       "    }\n",
       "\n",
       "    .colab-df-buttons div {\n",
       "      margin-bottom: 4px;\n",
       "    }\n",
       "\n",
       "    [theme=dark] .colab-df-convert {\n",
       "      background-color: #3B4455;\n",
       "      fill: #D2E3FC;\n",
       "    }\n",
       "\n",
       "    [theme=dark] .colab-df-convert:hover {\n",
       "      background-color: #434B5C;\n",
       "      box-shadow: 0px 1px 3px 1px rgba(0, 0, 0, 0.15);\n",
       "      filter: drop-shadow(0px 1px 2px rgba(0, 0, 0, 0.3));\n",
       "      fill: #FFFFFF;\n",
       "    }\n",
       "  </style>\n",
       "\n",
       "    <script>\n",
       "      const buttonEl =\n",
       "        document.querySelector('#df-ad18f3c2-eace-4ad9-bad3-9b72bba1d562 button.colab-df-convert');\n",
       "      buttonEl.style.display =\n",
       "        google.colab.kernel.accessAllowed ? 'block' : 'none';\n",
       "\n",
       "      async function convertToInteractive(key) {\n",
       "        const element = document.querySelector('#df-ad18f3c2-eace-4ad9-bad3-9b72bba1d562');\n",
       "        const dataTable =\n",
       "          await google.colab.kernel.invokeFunction('convertToInteractive',\n",
       "                                                    [key], {});\n",
       "        if (!dataTable) return;\n",
       "\n",
       "        const docLinkHtml = 'Like what you see? Visit the ' +\n",
       "          '<a target=\"_blank\" href=https://colab.research.google.com/notebooks/data_table.ipynb>data table notebook</a>'\n",
       "          + ' to learn more about interactive tables.';\n",
       "        element.innerHTML = '';\n",
       "        dataTable['output_type'] = 'display_data';\n",
       "        await google.colab.output.renderOutput(dataTable, element);\n",
       "        const docLink = document.createElement('div');\n",
       "        docLink.innerHTML = docLinkHtml;\n",
       "        element.appendChild(docLink);\n",
       "      }\n",
       "    </script>\n",
       "  </div>\n",
       "\n",
       "\n",
       "<div id=\"df-929c3985-0d59-44c5-856d-b855e4013000\">\n",
       "  <button class=\"colab-df-quickchart\" onclick=\"quickchart('df-929c3985-0d59-44c5-856d-b855e4013000')\"\n",
       "            title=\"Suggest charts\"\n",
       "            style=\"display:none;\">\n",
       "\n",
       "<svg xmlns=\"http://www.w3.org/2000/svg\" height=\"24px\"viewBox=\"0 0 24 24\"\n",
       "     width=\"24px\">\n",
       "    <g>\n",
       "        <path d=\"M19 3H5c-1.1 0-2 .9-2 2v14c0 1.1.9 2 2 2h14c1.1 0 2-.9 2-2V5c0-1.1-.9-2-2-2zM9 17H7v-7h2v7zm4 0h-2V7h2v10zm4 0h-2v-4h2v4z\"/>\n",
       "    </g>\n",
       "</svg>\n",
       "  </button>\n",
       "\n",
       "<style>\n",
       "  .colab-df-quickchart {\n",
       "      --bg-color: #E8F0FE;\n",
       "      --fill-color: #1967D2;\n",
       "      --hover-bg-color: #E2EBFA;\n",
       "      --hover-fill-color: #174EA6;\n",
       "      --disabled-fill-color: #AAA;\n",
       "      --disabled-bg-color: #DDD;\n",
       "  }\n",
       "\n",
       "  [theme=dark] .colab-df-quickchart {\n",
       "      --bg-color: #3B4455;\n",
       "      --fill-color: #D2E3FC;\n",
       "      --hover-bg-color: #434B5C;\n",
       "      --hover-fill-color: #FFFFFF;\n",
       "      --disabled-bg-color: #3B4455;\n",
       "      --disabled-fill-color: #666;\n",
       "  }\n",
       "\n",
       "  .colab-df-quickchart {\n",
       "    background-color: var(--bg-color);\n",
       "    border: none;\n",
       "    border-radius: 50%;\n",
       "    cursor: pointer;\n",
       "    display: none;\n",
       "    fill: var(--fill-color);\n",
       "    height: 32px;\n",
       "    padding: 0;\n",
       "    width: 32px;\n",
       "  }\n",
       "\n",
       "  .colab-df-quickchart:hover {\n",
       "    background-color: var(--hover-bg-color);\n",
       "    box-shadow: 0 1px 2px rgba(60, 64, 67, 0.3), 0 1px 3px 1px rgba(60, 64, 67, 0.15);\n",
       "    fill: var(--button-hover-fill-color);\n",
       "  }\n",
       "\n",
       "  .colab-df-quickchart-complete:disabled,\n",
       "  .colab-df-quickchart-complete:disabled:hover {\n",
       "    background-color: var(--disabled-bg-color);\n",
       "    fill: var(--disabled-fill-color);\n",
       "    box-shadow: none;\n",
       "  }\n",
       "\n",
       "  .colab-df-spinner {\n",
       "    border: 2px solid var(--fill-color);\n",
       "    border-color: transparent;\n",
       "    border-bottom-color: var(--fill-color);\n",
       "    animation:\n",
       "      spin 1s steps(1) infinite;\n",
       "  }\n",
       "\n",
       "  @keyframes spin {\n",
       "    0% {\n",
       "      border-color: transparent;\n",
       "      border-bottom-color: var(--fill-color);\n",
       "      border-left-color: var(--fill-color);\n",
       "    }\n",
       "    20% {\n",
       "      border-color: transparent;\n",
       "      border-left-color: var(--fill-color);\n",
       "      border-top-color: var(--fill-color);\n",
       "    }\n",
       "    30% {\n",
       "      border-color: transparent;\n",
       "      border-left-color: var(--fill-color);\n",
       "      border-top-color: var(--fill-color);\n",
       "      border-right-color: var(--fill-color);\n",
       "    }\n",
       "    40% {\n",
       "      border-color: transparent;\n",
       "      border-right-color: var(--fill-color);\n",
       "      border-top-color: var(--fill-color);\n",
       "    }\n",
       "    60% {\n",
       "      border-color: transparent;\n",
       "      border-right-color: var(--fill-color);\n",
       "    }\n",
       "    80% {\n",
       "      border-color: transparent;\n",
       "      border-right-color: var(--fill-color);\n",
       "      border-bottom-color: var(--fill-color);\n",
       "    }\n",
       "    90% {\n",
       "      border-color: transparent;\n",
       "      border-bottom-color: var(--fill-color);\n",
       "    }\n",
       "  }\n",
       "</style>\n",
       "\n",
       "  <script>\n",
       "    async function quickchart(key) {\n",
       "      const quickchartButtonEl =\n",
       "        document.querySelector('#' + key + ' button');\n",
       "      quickchartButtonEl.disabled = true;  // To prevent multiple clicks.\n",
       "      quickchartButtonEl.classList.add('colab-df-spinner');\n",
       "      try {\n",
       "        const charts = await google.colab.kernel.invokeFunction(\n",
       "            'suggestCharts', [key], {});\n",
       "      } catch (error) {\n",
       "        console.error('Error during call to suggestCharts:', error);\n",
       "      }\n",
       "      quickchartButtonEl.classList.remove('colab-df-spinner');\n",
       "      quickchartButtonEl.classList.add('colab-df-quickchart-complete');\n",
       "    }\n",
       "    (() => {\n",
       "      let quickchartButtonEl =\n",
       "        document.querySelector('#df-929c3985-0d59-44c5-856d-b855e4013000 button');\n",
       "      quickchartButtonEl.style.display =\n",
       "        google.colab.kernel.accessAllowed ? 'block' : 'none';\n",
       "    })();\n",
       "  </script>\n",
       "</div>\n",
       "\n",
       "    </div>\n",
       "  </div>\n"
      ],
      "text/plain": [
       "            airy      angry       book  character    despite   distress  \\\n",
       "count  12.000000  12.000000  12.000000  12.000000  12.000000  12.000000   \n",
       "mean    0.123605   0.432562   0.129103   0.146650   0.117716   0.113249   \n",
       "std     0.152933   0.172278   0.160490   0.188655   0.145945   0.140501   \n",
       "min     0.000000   0.000000   0.000000   0.000000   0.000000   0.000000   \n",
       "25%     0.000000   0.379609   0.000000   0.000000   0.000000   0.000000   \n",
       "50%     0.000000   0.512753   0.000000   0.000000   0.000000   0.000000   \n",
       "75%     0.290828   0.533985   0.291178   0.298808   0.290828   0.259496   \n",
       "max     0.318546   0.603929   0.356802   0.500000   0.292228   0.292628   \n",
       "\n",
       "            feel    feeling   gripping    manages     packed   portrait  \\\n",
       "count  12.000000  12.000000  12.000000  12.000000  12.000000  12.000000   \n",
       "mean    0.113132   0.117716   0.144830   0.113249   0.114686   0.122326   \n",
       "std     0.140339   0.145945   0.187223   0.140501   0.142325   0.152956   \n",
       "min     0.000000   0.000000   0.000000   0.000000   0.000000   0.000000   \n",
       "25%     0.000000   0.000000   0.000000   0.000000   0.000000   0.000000   \n",
       "50%     0.000000   0.000000   0.000000   0.000000   0.000000   0.000000   \n",
       "75%     0.259496   0.290828   0.298808   0.259496   0.264606   0.275849   \n",
       "max     0.292628   0.292228   0.500000   0.292628   0.290828   0.356802   \n",
       "\n",
       "       presentation  psychological       rage    shimmer        thi      woman  \n",
       "count     12.000000      12.000000  12.000000  12.000000  12.000000  12.000000  \n",
       "mean       0.123605       0.360816   0.144830   0.146650   0.123605   0.113249  \n",
       "std        0.152933       0.187066   0.187223   0.188655   0.152933   0.140501  \n",
       "min        0.000000       0.000000   0.000000   0.000000   0.000000   0.000000  \n",
       "25%        0.000000       0.190017   0.000000   0.000000   0.000000   0.000000  \n",
       "50%        0.000000       0.394469   0.000000   0.000000   0.000000   0.000000  \n",
       "75%        0.290828       0.503416   0.298808   0.298808   0.290828   0.259496  \n",
       "max        0.318546       0.623384   0.500000   0.500000   0.318546   0.292628  "
      ]
     },
     "execution_count": 70,
     "metadata": {},
     "output_type": "execute_result"
    }
   ],
   "source": [
    "import pandas as pd\n",
    "df_tf_idf = pd.DataFrame(tf_idf_array, columns = words_set)\n",
    "\n",
    "df_tf_idf.describe()"
   ]
  },
  {
   "cell_type": "code",
   "execution_count": null,
   "metadata": {
    "colab": {
     "base_uri": "https://localhost:8080/",
     "height": 445
    },
    "id": "oZZ7aqtkChQr",
    "outputId": "a1923474-5271-49e2-b8bf-0d4df44b4b67"
   },
   "outputs": [
    {
     "data": {
      "application/vnd.google.colaboratory.intrinsic+json": {
       "summary": "{\n  \"name\": \"df_tf_idf\",\n  \"rows\": 12,\n  \"fields\": [\n    {\n      \"column\": \"airy\",\n      \"properties\": {\n        \"dtype\": \"number\",\n        \"std\": 0.15293312491455294,\n        \"min\": 0.0,\n        \"max\": 0.31854583064456854,\n        \"num_unique_values\": 4,\n        \"samples\": [\n          0.29222808723945765,\n          0.31854583064456854,\n          0.0\n        ],\n        \"semantic_type\": \"\",\n        \"description\": \"\"\n      }\n    },\n    {\n      \"column\": \"angry\",\n      \"properties\": {\n        \"dtype\": \"number\",\n        \"std\": 0.17227788992016674,\n        \"min\": 0.0,\n        \"max\": 0.6039290222731721,\n        \"num_unique_values\": 11,\n        \"samples\": [\n          0.35428466342686843,\n          0.46753819997528556,\n          0.5347163078842286\n        ],\n        \"semantic_type\": \"\",\n        \"description\": \"\"\n      }\n    },\n    {\n      \"column\": \"book\",\n      \"properties\": {\n        \"dtype\": \"number\",\n        \"std\": 0.16049027967445412,\n        \"min\": 0.0,\n        \"max\": 0.35680193886856104,\n        \"num_unique_values\": 5,\n        \"samples\": [\n          0.29222808723945765,\n          0.31854583064456854,\n          0.29082830627037354\n        ],\n        \"semantic_type\": \"\",\n        \"description\": \"\"\n      }\n    },\n    {\n      \"column\": \"character\",\n      \"properties\": {\n        \"dtype\": \"number\",\n        \"std\": 0.1886549888433919,\n        \"min\": 0.0,\n        \"max\": 0.5,\n        \"num_unique_values\": 6,\n        \"samples\": [\n          0.0,\n          0.29222808723945765,\n          0.5\n        ],\n        \"semantic_type\": \"\",\n        \"description\": \"\"\n      }\n    },\n    {\n      \"column\": \"despite\",\n      \"properties\": {\n        \"dtype\": \"number\",\n        \"std\": 0.14594518162118988,\n        \"min\": 0.0,\n        \"max\": 0.29222808723945765,\n        \"num_unique_values\": 4,\n        \"samples\": [\n          0.29222808723945765,\n          0.24787928011945254,\n          0.0\n        ],\n        \"semantic_type\": \"\",\n        \"description\": \"\"\n      }\n    },\n    {\n      \"column\": \"distress\",\n      \"properties\": {\n        \"dtype\": \"number\",\n        \"std\": 0.140500855038474,\n        \"min\": 0.0,\n        \"max\": 0.29262841289434544,\n        \"num_unique_values\": 6,\n        \"samples\": [\n          0.25586457605453977,\n          0.0,\n          0.29262841289434544\n        ],\n        \"semantic_type\": \"\",\n        \"description\": \"\"\n      }\n    },\n    {\n      \"column\": \"feel\",\n      \"properties\": {\n        \"dtype\": \"number\",\n        \"std\": 0.14033924039994605,\n        \"min\": 0.0,\n        \"max\": 0.29262841289434544,\n        \"num_unique_values\": 6,\n        \"samples\": [\n          0.25586457605453977,\n          0.0,\n          0.29262841289434544\n        ],\n        \"semantic_type\": \"\",\n        \"description\": \"\"\n      }\n    },\n    {\n      \"column\": \"feeling\",\n      \"properties\": {\n        \"dtype\": \"number\",\n        \"std\": 0.14594518162118988,\n        \"min\": 0.0,\n        \"max\": 0.29222808723945765,\n        \"num_unique_values\": 4,\n        \"samples\": [\n          0.29222808723945765,\n          0.24787928011945254,\n          0.0\n        ],\n        \"semantic_type\": \"\",\n        \"description\": \"\"\n      }\n    },\n    {\n      \"column\": \"gripping\",\n      \"properties\": {\n        \"dtype\": \"number\",\n        \"std\": 0.18722286905022764,\n        \"min\": 0.0,\n        \"max\": 0.5,\n        \"num_unique_values\": 6,\n        \"samples\": [\n          0.0,\n          0.27038918781764243,\n          0.5\n        ],\n        \"semantic_type\": \"\",\n        \"description\": \"\"\n      }\n    },\n    {\n      \"column\": \"manages\",\n      \"properties\": {\n        \"dtype\": \"number\",\n        \"std\": 0.140500855038474,\n        \"min\": 0.0,\n        \"max\": 0.29262841289434544,\n        \"num_unique_values\": 6,\n        \"samples\": [\n          0.25586457605453977,\n          0.0,\n          0.29262841289434544\n        ],\n        \"semantic_type\": \"\",\n        \"description\": \"\"\n      }\n    },\n    {\n      \"column\": \"packed\",\n      \"properties\": {\n        \"dtype\": \"number\",\n        \"std\": 0.1423249567815714,\n        \"min\": 0.0,\n        \"max\": 0.29082830627037354,\n        \"num_unique_values\": 4,\n        \"samples\": [\n          0.0,\n          0.24787928011945254,\n          0.25586457605453977\n        ],\n        \"semantic_type\": \"\",\n        \"description\": \"\"\n      }\n    },\n    {\n      \"column\": \"portrait\",\n      \"properties\": {\n        \"dtype\": \"number\",\n        \"std\": 0.15295555141865907,\n        \"min\": 0.0,\n        \"max\": 0.35680193886856104,\n        \"num_unique_values\": 6,\n        \"samples\": [\n          0.25586457605453977,\n          0.0,\n          0.29262841289434544\n        ],\n        \"semantic_type\": \"\",\n        \"description\": \"\"\n      }\n    },\n    {\n      \"column\": \"presentation\",\n      \"properties\": {\n        \"dtype\": \"number\",\n        \"std\": 0.15293312491455294,\n        \"min\": 0.0,\n        \"max\": 0.31854583064456854,\n        \"num_unique_values\": 4,\n        \"samples\": [\n          0.29222808723945765,\n          0.31854583064456854,\n          0.0\n        ],\n        \"semantic_type\": \"\",\n        \"description\": \"\"\n      }\n    },\n    {\n      \"column\": \"psychological\",\n      \"properties\": {\n        \"dtype\": \"number\",\n        \"std\": 0.18706594803995577,\n        \"min\": 0.0,\n        \"max\": 0.6233842666337142,\n        \"num_unique_values\": 11,\n        \"samples\": [\n          0.5314269951403026,\n          0.6233842666337142,\n          0.5347163078842286\n        ],\n        \"semantic_type\": \"\",\n        \"description\": \"\"\n      }\n    },\n    {\n      \"column\": \"rage\",\n      \"properties\": {\n        \"dtype\": \"number\",\n        \"std\": 0.18722286905022764,\n        \"min\": 0.0,\n        \"max\": 0.5,\n        \"num_unique_values\": 6,\n        \"samples\": [\n          0.0,\n          0.27038918781764243,\n          0.5\n        ],\n        \"semantic_type\": \"\",\n        \"description\": \"\"\n      }\n    },\n    {\n      \"column\": \"shimmer\",\n      \"properties\": {\n        \"dtype\": \"number\",\n        \"std\": 0.1886549888433919,\n        \"min\": 0.0,\n        \"max\": 0.5,\n        \"num_unique_values\": 6,\n        \"samples\": [\n          0.0,\n          0.29222808723945765,\n          0.5\n        ],\n        \"semantic_type\": \"\",\n        \"description\": \"\"\n      }\n    },\n    {\n      \"column\": \"thi\",\n      \"properties\": {\n        \"dtype\": \"number\",\n        \"std\": 0.15293312491455294,\n        \"min\": 0.0,\n        \"max\": 0.31854583064456854,\n        \"num_unique_values\": 4,\n        \"samples\": [\n          0.29222808723945765,\n          0.31854583064456854,\n          0.0\n        ],\n        \"semantic_type\": \"\",\n        \"description\": \"\"\n      }\n    },\n    {\n      \"column\": \"woman\",\n      \"properties\": {\n        \"dtype\": \"number\",\n        \"std\": 0.140500855038474,\n        \"min\": 0.0,\n        \"max\": 0.29262841289434544,\n        \"num_unique_values\": 6,\n        \"samples\": [\n          0.25586457605453977,\n          0.0,\n          0.29262841289434544\n        ],\n        \"semantic_type\": \"\",\n        \"description\": \"\"\n      }\n    }\n  ]\n}",
       "type": "dataframe",
       "variable_name": "df_tf_idf"
      },
      "text/html": [
       "\n",
       "  <div id=\"df-3295bf4a-e7eb-4f87-b936-63659c6181ca\" class=\"colab-df-container\">\n",
       "    <div>\n",
       "<style scoped>\n",
       "    .dataframe tbody tr th:only-of-type {\n",
       "        vertical-align: middle;\n",
       "    }\n",
       "\n",
       "    .dataframe tbody tr th {\n",
       "        vertical-align: top;\n",
       "    }\n",
       "\n",
       "    .dataframe thead th {\n",
       "        text-align: right;\n",
       "    }\n",
       "</style>\n",
       "<table border=\"1\" class=\"dataframe\">\n",
       "  <thead>\n",
       "    <tr style=\"text-align: right;\">\n",
       "      <th></th>\n",
       "      <th>airy</th>\n",
       "      <th>angry</th>\n",
       "      <th>book</th>\n",
       "      <th>character</th>\n",
       "      <th>despite</th>\n",
       "      <th>distress</th>\n",
       "      <th>feel</th>\n",
       "      <th>feeling</th>\n",
       "      <th>gripping</th>\n",
       "      <th>manages</th>\n",
       "      <th>packed</th>\n",
       "      <th>portrait</th>\n",
       "      <th>presentation</th>\n",
       "      <th>psychological</th>\n",
       "      <th>rage</th>\n",
       "      <th>shimmer</th>\n",
       "      <th>thi</th>\n",
       "      <th>woman</th>\n",
       "    </tr>\n",
       "  </thead>\n",
       "  <tbody>\n",
       "    <tr>\n",
       "      <th>0</th>\n",
       "      <td>0.000000</td>\n",
       "      <td>0.467538</td>\n",
       "      <td>0.000000</td>\n",
       "      <td>0.000000</td>\n",
       "      <td>0.000000</td>\n",
       "      <td>0.255865</td>\n",
       "      <td>0.255865</td>\n",
       "      <td>0.000000</td>\n",
       "      <td>0.000000</td>\n",
       "      <td>0.255865</td>\n",
       "      <td>0.255865</td>\n",
       "      <td>0.255865</td>\n",
       "      <td>0.000000</td>\n",
       "      <td>0.623384</td>\n",
       "      <td>0.000000</td>\n",
       "      <td>0.000000</td>\n",
       "      <td>0.000000</td>\n",
       "      <td>0.255865</td>\n",
       "    </tr>\n",
       "    <tr>\n",
       "      <th>1</th>\n",
       "      <td>0.292228</td>\n",
       "      <td>0.533985</td>\n",
       "      <td>0.292228</td>\n",
       "      <td>0.292228</td>\n",
       "      <td>0.292228</td>\n",
       "      <td>0.000000</td>\n",
       "      <td>0.000000</td>\n",
       "      <td>0.292228</td>\n",
       "      <td>0.000000</td>\n",
       "      <td>0.000000</td>\n",
       "      <td>0.000000</td>\n",
       "      <td>0.000000</td>\n",
       "      <td>0.292228</td>\n",
       "      <td>0.177995</td>\n",
       "      <td>0.000000</td>\n",
       "      <td>0.292228</td>\n",
       "      <td>0.292228</td>\n",
       "      <td>0.000000</td>\n",
       "    </tr>\n",
       "    <tr>\n",
       "      <th>2</th>\n",
       "      <td>0.000000</td>\n",
       "      <td>0.494079</td>\n",
       "      <td>0.000000</td>\n",
       "      <td>0.000000</td>\n",
       "      <td>0.000000</td>\n",
       "      <td>0.270389</td>\n",
       "      <td>0.270389</td>\n",
       "      <td>0.000000</td>\n",
       "      <td>0.270389</td>\n",
       "      <td>0.270389</td>\n",
       "      <td>0.000000</td>\n",
       "      <td>0.270389</td>\n",
       "      <td>0.000000</td>\n",
       "      <td>0.494079</td>\n",
       "      <td>0.270389</td>\n",
       "      <td>0.000000</td>\n",
       "      <td>0.000000</td>\n",
       "      <td>0.270389</td>\n",
       "    </tr>\n",
       "    <tr>\n",
       "      <th>3</th>\n",
       "      <td>0.290828</td>\n",
       "      <td>0.531427</td>\n",
       "      <td>0.290828</td>\n",
       "      <td>0.000000</td>\n",
       "      <td>0.290828</td>\n",
       "      <td>0.000000</td>\n",
       "      <td>0.000000</td>\n",
       "      <td>0.290828</td>\n",
       "      <td>0.000000</td>\n",
       "      <td>0.000000</td>\n",
       "      <td>0.290828</td>\n",
       "      <td>0.000000</td>\n",
       "      <td>0.290828</td>\n",
       "      <td>0.354285</td>\n",
       "      <td>0.000000</td>\n",
       "      <td>0.000000</td>\n",
       "      <td>0.290828</td>\n",
       "      <td>0.000000</td>\n",
       "    </tr>\n",
       "    <tr>\n",
       "      <th>4</th>\n",
       "      <td>0.000000</td>\n",
       "      <td>0.533985</td>\n",
       "      <td>0.000000</td>\n",
       "      <td>0.292228</td>\n",
       "      <td>0.000000</td>\n",
       "      <td>0.292228</td>\n",
       "      <td>0.000000</td>\n",
       "      <td>0.000000</td>\n",
       "      <td>0.292228</td>\n",
       "      <td>0.292228</td>\n",
       "      <td>0.000000</td>\n",
       "      <td>0.292228</td>\n",
       "      <td>0.000000</td>\n",
       "      <td>0.177995</td>\n",
       "      <td>0.292228</td>\n",
       "      <td>0.292228</td>\n",
       "      <td>0.000000</td>\n",
       "      <td>0.292228</td>\n",
       "    </tr>\n",
       "    <tr>\n",
       "      <th>5</th>\n",
       "      <td>0.290828</td>\n",
       "      <td>0.354285</td>\n",
       "      <td>0.000000</td>\n",
       "      <td>0.000000</td>\n",
       "      <td>0.290828</td>\n",
       "      <td>0.000000</td>\n",
       "      <td>0.290828</td>\n",
       "      <td>0.290828</td>\n",
       "      <td>0.000000</td>\n",
       "      <td>0.000000</td>\n",
       "      <td>0.290828</td>\n",
       "      <td>0.000000</td>\n",
       "      <td>0.290828</td>\n",
       "      <td>0.531427</td>\n",
       "      <td>0.000000</td>\n",
       "      <td>0.000000</td>\n",
       "      <td>0.290828</td>\n",
       "      <td>0.000000</td>\n",
       "    </tr>\n",
       "    <tr>\n",
       "      <th>6</th>\n",
       "      <td>0.000000</td>\n",
       "      <td>0.217327</td>\n",
       "      <td>0.356802</td>\n",
       "      <td>0.356802</td>\n",
       "      <td>0.000000</td>\n",
       "      <td>0.000000</td>\n",
       "      <td>0.000000</td>\n",
       "      <td>0.000000</td>\n",
       "      <td>0.356802</td>\n",
       "      <td>0.000000</td>\n",
       "      <td>0.000000</td>\n",
       "      <td>0.356802</td>\n",
       "      <td>0.000000</td>\n",
       "      <td>0.434653</td>\n",
       "      <td>0.356802</td>\n",
       "      <td>0.356802</td>\n",
       "      <td>0.000000</td>\n",
       "      <td>0.000000</td>\n",
       "    </tr>\n",
       "    <tr>\n",
       "      <th>7</th>\n",
       "      <td>0.000000</td>\n",
       "      <td>0.603929</td>\n",
       "      <td>0.000000</td>\n",
       "      <td>0.000000</td>\n",
       "      <td>0.247879</td>\n",
       "      <td>0.247879</td>\n",
       "      <td>0.247879</td>\n",
       "      <td>0.247879</td>\n",
       "      <td>0.000000</td>\n",
       "      <td>0.247879</td>\n",
       "      <td>0.247879</td>\n",
       "      <td>0.000000</td>\n",
       "      <td>0.000000</td>\n",
       "      <td>0.452947</td>\n",
       "      <td>0.000000</td>\n",
       "      <td>0.000000</td>\n",
       "      <td>0.000000</td>\n",
       "      <td>0.247879</td>\n",
       "    </tr>\n",
       "    <tr>\n",
       "      <th>8</th>\n",
       "      <td>0.318546</td>\n",
       "      <td>0.388050</td>\n",
       "      <td>0.318546</td>\n",
       "      <td>0.318546</td>\n",
       "      <td>0.000000</td>\n",
       "      <td>0.000000</td>\n",
       "      <td>0.000000</td>\n",
       "      <td>0.000000</td>\n",
       "      <td>0.318546</td>\n",
       "      <td>0.000000</td>\n",
       "      <td>0.000000</td>\n",
       "      <td>0.000000</td>\n",
       "      <td>0.318546</td>\n",
       "      <td>0.194025</td>\n",
       "      <td>0.318546</td>\n",
       "      <td>0.318546</td>\n",
       "      <td>0.318546</td>\n",
       "      <td>0.000000</td>\n",
       "    </tr>\n",
       "    <tr>\n",
       "      <th>9</th>\n",
       "      <td>0.000000</td>\n",
       "      <td>0.534716</td>\n",
       "      <td>0.000000</td>\n",
       "      <td>0.000000</td>\n",
       "      <td>0.000000</td>\n",
       "      <td>0.292628</td>\n",
       "      <td>0.292628</td>\n",
       "      <td>0.000000</td>\n",
       "      <td>0.000000</td>\n",
       "      <td>0.292628</td>\n",
       "      <td>0.000000</td>\n",
       "      <td>0.292628</td>\n",
       "      <td>0.000000</td>\n",
       "      <td>0.534716</td>\n",
       "      <td>0.000000</td>\n",
       "      <td>0.000000</td>\n",
       "      <td>0.000000</td>\n",
       "      <td>0.292628</td>\n",
       "    </tr>\n",
       "    <tr>\n",
       "      <th>10</th>\n",
       "      <td>0.290828</td>\n",
       "      <td>0.531427</td>\n",
       "      <td>0.290828</td>\n",
       "      <td>0.000000</td>\n",
       "      <td>0.290828</td>\n",
       "      <td>0.000000</td>\n",
       "      <td>0.000000</td>\n",
       "      <td>0.290828</td>\n",
       "      <td>0.000000</td>\n",
       "      <td>0.000000</td>\n",
       "      <td>0.290828</td>\n",
       "      <td>0.000000</td>\n",
       "      <td>0.290828</td>\n",
       "      <td>0.354285</td>\n",
       "      <td>0.000000</td>\n",
       "      <td>0.000000</td>\n",
       "      <td>0.290828</td>\n",
       "      <td>0.000000</td>\n",
       "    </tr>\n",
       "    <tr>\n",
       "      <th>11</th>\n",
       "      <td>0.000000</td>\n",
       "      <td>0.000000</td>\n",
       "      <td>0.000000</td>\n",
       "      <td>0.500000</td>\n",
       "      <td>0.000000</td>\n",
       "      <td>0.000000</td>\n",
       "      <td>0.000000</td>\n",
       "      <td>0.000000</td>\n",
       "      <td>0.500000</td>\n",
       "      <td>0.000000</td>\n",
       "      <td>0.000000</td>\n",
       "      <td>0.000000</td>\n",
       "      <td>0.000000</td>\n",
       "      <td>0.000000</td>\n",
       "      <td>0.500000</td>\n",
       "      <td>0.500000</td>\n",
       "      <td>0.000000</td>\n",
       "      <td>0.000000</td>\n",
       "    </tr>\n",
       "  </tbody>\n",
       "</table>\n",
       "</div>\n",
       "    <div class=\"colab-df-buttons\">\n",
       "\n",
       "  <div class=\"colab-df-container\">\n",
       "    <button class=\"colab-df-convert\" onclick=\"convertToInteractive('df-3295bf4a-e7eb-4f87-b936-63659c6181ca')\"\n",
       "            title=\"Convert this dataframe to an interactive table.\"\n",
       "            style=\"display:none;\">\n",
       "\n",
       "  <svg xmlns=\"http://www.w3.org/2000/svg\" height=\"24px\" viewBox=\"0 -960 960 960\">\n",
       "    <path d=\"M120-120v-720h720v720H120Zm60-500h600v-160H180v160Zm220 220h160v-160H400v160Zm0 220h160v-160H400v160ZM180-400h160v-160H180v160Zm440 0h160v-160H620v160ZM180-180h160v-160H180v160Zm440 0h160v-160H620v160Z\"/>\n",
       "  </svg>\n",
       "    </button>\n",
       "\n",
       "  <style>\n",
       "    .colab-df-container {\n",
       "      display:flex;\n",
       "      gap: 12px;\n",
       "    }\n",
       "\n",
       "    .colab-df-convert {\n",
       "      background-color: #E8F0FE;\n",
       "      border: none;\n",
       "      border-radius: 50%;\n",
       "      cursor: pointer;\n",
       "      display: none;\n",
       "      fill: #1967D2;\n",
       "      height: 32px;\n",
       "      padding: 0 0 0 0;\n",
       "      width: 32px;\n",
       "    }\n",
       "\n",
       "    .colab-df-convert:hover {\n",
       "      background-color: #E2EBFA;\n",
       "      box-shadow: 0px 1px 2px rgba(60, 64, 67, 0.3), 0px 1px 3px 1px rgba(60, 64, 67, 0.15);\n",
       "      fill: #174EA6;\n",
       "    }\n",
       "\n",
       "    .colab-df-buttons div {\n",
       "      margin-bottom: 4px;\n",
       "    }\n",
       "\n",
       "    [theme=dark] .colab-df-convert {\n",
       "      background-color: #3B4455;\n",
       "      fill: #D2E3FC;\n",
       "    }\n",
       "\n",
       "    [theme=dark] .colab-df-convert:hover {\n",
       "      background-color: #434B5C;\n",
       "      box-shadow: 0px 1px 3px 1px rgba(0, 0, 0, 0.15);\n",
       "      filter: drop-shadow(0px 1px 2px rgba(0, 0, 0, 0.3));\n",
       "      fill: #FFFFFF;\n",
       "    }\n",
       "  </style>\n",
       "\n",
       "    <script>\n",
       "      const buttonEl =\n",
       "        document.querySelector('#df-3295bf4a-e7eb-4f87-b936-63659c6181ca button.colab-df-convert');\n",
       "      buttonEl.style.display =\n",
       "        google.colab.kernel.accessAllowed ? 'block' : 'none';\n",
       "\n",
       "      async function convertToInteractive(key) {\n",
       "        const element = document.querySelector('#df-3295bf4a-e7eb-4f87-b936-63659c6181ca');\n",
       "        const dataTable =\n",
       "          await google.colab.kernel.invokeFunction('convertToInteractive',\n",
       "                                                    [key], {});\n",
       "        if (!dataTable) return;\n",
       "\n",
       "        const docLinkHtml = 'Like what you see? Visit the ' +\n",
       "          '<a target=\"_blank\" href=https://colab.research.google.com/notebooks/data_table.ipynb>data table notebook</a>'\n",
       "          + ' to learn more about interactive tables.';\n",
       "        element.innerHTML = '';\n",
       "        dataTable['output_type'] = 'display_data';\n",
       "        await google.colab.output.renderOutput(dataTable, element);\n",
       "        const docLink = document.createElement('div');\n",
       "        docLink.innerHTML = docLinkHtml;\n",
       "        element.appendChild(docLink);\n",
       "      }\n",
       "    </script>\n",
       "  </div>\n",
       "\n",
       "\n",
       "<div id=\"df-5378e98f-6024-4b69-b18d-e3aad797a08b\">\n",
       "  <button class=\"colab-df-quickchart\" onclick=\"quickchart('df-5378e98f-6024-4b69-b18d-e3aad797a08b')\"\n",
       "            title=\"Suggest charts\"\n",
       "            style=\"display:none;\">\n",
       "\n",
       "<svg xmlns=\"http://www.w3.org/2000/svg\" height=\"24px\"viewBox=\"0 0 24 24\"\n",
       "     width=\"24px\">\n",
       "    <g>\n",
       "        <path d=\"M19 3H5c-1.1 0-2 .9-2 2v14c0 1.1.9 2 2 2h14c1.1 0 2-.9 2-2V5c0-1.1-.9-2-2-2zM9 17H7v-7h2v7zm4 0h-2V7h2v10zm4 0h-2v-4h2v4z\"/>\n",
       "    </g>\n",
       "</svg>\n",
       "  </button>\n",
       "\n",
       "<style>\n",
       "  .colab-df-quickchart {\n",
       "      --bg-color: #E8F0FE;\n",
       "      --fill-color: #1967D2;\n",
       "      --hover-bg-color: #E2EBFA;\n",
       "      --hover-fill-color: #174EA6;\n",
       "      --disabled-fill-color: #AAA;\n",
       "      --disabled-bg-color: #DDD;\n",
       "  }\n",
       "\n",
       "  [theme=dark] .colab-df-quickchart {\n",
       "      --bg-color: #3B4455;\n",
       "      --fill-color: #D2E3FC;\n",
       "      --hover-bg-color: #434B5C;\n",
       "      --hover-fill-color: #FFFFFF;\n",
       "      --disabled-bg-color: #3B4455;\n",
       "      --disabled-fill-color: #666;\n",
       "  }\n",
       "\n",
       "  .colab-df-quickchart {\n",
       "    background-color: var(--bg-color);\n",
       "    border: none;\n",
       "    border-radius: 50%;\n",
       "    cursor: pointer;\n",
       "    display: none;\n",
       "    fill: var(--fill-color);\n",
       "    height: 32px;\n",
       "    padding: 0;\n",
       "    width: 32px;\n",
       "  }\n",
       "\n",
       "  .colab-df-quickchart:hover {\n",
       "    background-color: var(--hover-bg-color);\n",
       "    box-shadow: 0 1px 2px rgba(60, 64, 67, 0.3), 0 1px 3px 1px rgba(60, 64, 67, 0.15);\n",
       "    fill: var(--button-hover-fill-color);\n",
       "  }\n",
       "\n",
       "  .colab-df-quickchart-complete:disabled,\n",
       "  .colab-df-quickchart-complete:disabled:hover {\n",
       "    background-color: var(--disabled-bg-color);\n",
       "    fill: var(--disabled-fill-color);\n",
       "    box-shadow: none;\n",
       "  }\n",
       "\n",
       "  .colab-df-spinner {\n",
       "    border: 2px solid var(--fill-color);\n",
       "    border-color: transparent;\n",
       "    border-bottom-color: var(--fill-color);\n",
       "    animation:\n",
       "      spin 1s steps(1) infinite;\n",
       "  }\n",
       "\n",
       "  @keyframes spin {\n",
       "    0% {\n",
       "      border-color: transparent;\n",
       "      border-bottom-color: var(--fill-color);\n",
       "      border-left-color: var(--fill-color);\n",
       "    }\n",
       "    20% {\n",
       "      border-color: transparent;\n",
       "      border-left-color: var(--fill-color);\n",
       "      border-top-color: var(--fill-color);\n",
       "    }\n",
       "    30% {\n",
       "      border-color: transparent;\n",
       "      border-left-color: var(--fill-color);\n",
       "      border-top-color: var(--fill-color);\n",
       "      border-right-color: var(--fill-color);\n",
       "    }\n",
       "    40% {\n",
       "      border-color: transparent;\n",
       "      border-right-color: var(--fill-color);\n",
       "      border-top-color: var(--fill-color);\n",
       "    }\n",
       "    60% {\n",
       "      border-color: transparent;\n",
       "      border-right-color: var(--fill-color);\n",
       "    }\n",
       "    80% {\n",
       "      border-color: transparent;\n",
       "      border-right-color: var(--fill-color);\n",
       "      border-bottom-color: var(--fill-color);\n",
       "    }\n",
       "    90% {\n",
       "      border-color: transparent;\n",
       "      border-bottom-color: var(--fill-color);\n",
       "    }\n",
       "  }\n",
       "</style>\n",
       "\n",
       "  <script>\n",
       "    async function quickchart(key) {\n",
       "      const quickchartButtonEl =\n",
       "        document.querySelector('#' + key + ' button');\n",
       "      quickchartButtonEl.disabled = true;  // To prevent multiple clicks.\n",
       "      quickchartButtonEl.classList.add('colab-df-spinner');\n",
       "      try {\n",
       "        const charts = await google.colab.kernel.invokeFunction(\n",
       "            'suggestCharts', [key], {});\n",
       "      } catch (error) {\n",
       "        console.error('Error during call to suggestCharts:', error);\n",
       "      }\n",
       "      quickchartButtonEl.classList.remove('colab-df-spinner');\n",
       "      quickchartButtonEl.classList.add('colab-df-quickchart-complete');\n",
       "    }\n",
       "    (() => {\n",
       "      let quickchartButtonEl =\n",
       "        document.querySelector('#df-5378e98f-6024-4b69-b18d-e3aad797a08b button');\n",
       "      quickchartButtonEl.style.display =\n",
       "        google.colab.kernel.accessAllowed ? 'block' : 'none';\n",
       "    })();\n",
       "  </script>\n",
       "</div>\n",
       "\n",
       "  <div id=\"id_cc51144e-7afe-4dd7-97c5-e3ef5d96696e\">\n",
       "    <style>\n",
       "      .colab-df-generate {\n",
       "        background-color: #E8F0FE;\n",
       "        border: none;\n",
       "        border-radius: 50%;\n",
       "        cursor: pointer;\n",
       "        display: none;\n",
       "        fill: #1967D2;\n",
       "        height: 32px;\n",
       "        padding: 0 0 0 0;\n",
       "        width: 32px;\n",
       "      }\n",
       "\n",
       "      .colab-df-generate:hover {\n",
       "        background-color: #E2EBFA;\n",
       "        box-shadow: 0px 1px 2px rgba(60, 64, 67, 0.3), 0px 1px 3px 1px rgba(60, 64, 67, 0.15);\n",
       "        fill: #174EA6;\n",
       "      }\n",
       "\n",
       "      [theme=dark] .colab-df-generate {\n",
       "        background-color: #3B4455;\n",
       "        fill: #D2E3FC;\n",
       "      }\n",
       "\n",
       "      [theme=dark] .colab-df-generate:hover {\n",
       "        background-color: #434B5C;\n",
       "        box-shadow: 0px 1px 3px 1px rgba(0, 0, 0, 0.15);\n",
       "        filter: drop-shadow(0px 1px 2px rgba(0, 0, 0, 0.3));\n",
       "        fill: #FFFFFF;\n",
       "      }\n",
       "    </style>\n",
       "    <button class=\"colab-df-generate\" onclick=\"generateWithVariable('df_tf_idf')\"\n",
       "            title=\"Generate code using this dataframe.\"\n",
       "            style=\"display:none;\">\n",
       "\n",
       "  <svg xmlns=\"http://www.w3.org/2000/svg\" height=\"24px\"viewBox=\"0 0 24 24\"\n",
       "       width=\"24px\">\n",
       "    <path d=\"M7,19H8.4L18.45,9,17,7.55,7,17.6ZM5,21V16.75L18.45,3.32a2,2,0,0,1,2.83,0l1.4,1.43a1.91,1.91,0,0,1,.58,1.4,1.91,1.91,0,0,1-.58,1.4L9.25,21ZM18.45,9,17,7.55Zm-12,3A5.31,5.31,0,0,0,4.9,8.1,5.31,5.31,0,0,0,1,6.5,5.31,5.31,0,0,0,4.9,4.9,5.31,5.31,0,0,0,6.5,1,5.31,5.31,0,0,0,8.1,4.9,5.31,5.31,0,0,0,12,6.5,5.46,5.46,0,0,0,6.5,12Z\"/>\n",
       "  </svg>\n",
       "    </button>\n",
       "    <script>\n",
       "      (() => {\n",
       "      const buttonEl =\n",
       "        document.querySelector('#id_cc51144e-7afe-4dd7-97c5-e3ef5d96696e button.colab-df-generate');\n",
       "      buttonEl.style.display =\n",
       "        google.colab.kernel.accessAllowed ? 'block' : 'none';\n",
       "\n",
       "      buttonEl.onclick = () => {\n",
       "        google.colab.notebook.generateWithVariable('df_tf_idf');\n",
       "      }\n",
       "      })();\n",
       "    </script>\n",
       "  </div>\n",
       "\n",
       "    </div>\n",
       "  </div>\n"
      ],
      "text/plain": [
       "        airy     angry      book  character   despite  distress      feel  \\\n",
       "0   0.000000  0.467538  0.000000   0.000000  0.000000  0.255865  0.255865   \n",
       "1   0.292228  0.533985  0.292228   0.292228  0.292228  0.000000  0.000000   \n",
       "2   0.000000  0.494079  0.000000   0.000000  0.000000  0.270389  0.270389   \n",
       "3   0.290828  0.531427  0.290828   0.000000  0.290828  0.000000  0.000000   \n",
       "4   0.000000  0.533985  0.000000   0.292228  0.000000  0.292228  0.000000   \n",
       "5   0.290828  0.354285  0.000000   0.000000  0.290828  0.000000  0.290828   \n",
       "6   0.000000  0.217327  0.356802   0.356802  0.000000  0.000000  0.000000   \n",
       "7   0.000000  0.603929  0.000000   0.000000  0.247879  0.247879  0.247879   \n",
       "8   0.318546  0.388050  0.318546   0.318546  0.000000  0.000000  0.000000   \n",
       "9   0.000000  0.534716  0.000000   0.000000  0.000000  0.292628  0.292628   \n",
       "10  0.290828  0.531427  0.290828   0.000000  0.290828  0.000000  0.000000   \n",
       "11  0.000000  0.000000  0.000000   0.500000  0.000000  0.000000  0.000000   \n",
       "\n",
       "     feeling  gripping   manages    packed  portrait  presentation  \\\n",
       "0   0.000000  0.000000  0.255865  0.255865  0.255865      0.000000   \n",
       "1   0.292228  0.000000  0.000000  0.000000  0.000000      0.292228   \n",
       "2   0.000000  0.270389  0.270389  0.000000  0.270389      0.000000   \n",
       "3   0.290828  0.000000  0.000000  0.290828  0.000000      0.290828   \n",
       "4   0.000000  0.292228  0.292228  0.000000  0.292228      0.000000   \n",
       "5   0.290828  0.000000  0.000000  0.290828  0.000000      0.290828   \n",
       "6   0.000000  0.356802  0.000000  0.000000  0.356802      0.000000   \n",
       "7   0.247879  0.000000  0.247879  0.247879  0.000000      0.000000   \n",
       "8   0.000000  0.318546  0.000000  0.000000  0.000000      0.318546   \n",
       "9   0.000000  0.000000  0.292628  0.000000  0.292628      0.000000   \n",
       "10  0.290828  0.000000  0.000000  0.290828  0.000000      0.290828   \n",
       "11  0.000000  0.500000  0.000000  0.000000  0.000000      0.000000   \n",
       "\n",
       "    psychological      rage   shimmer       thi     woman  \n",
       "0        0.623384  0.000000  0.000000  0.000000  0.255865  \n",
       "1        0.177995  0.000000  0.292228  0.292228  0.000000  \n",
       "2        0.494079  0.270389  0.000000  0.000000  0.270389  \n",
       "3        0.354285  0.000000  0.000000  0.290828  0.000000  \n",
       "4        0.177995  0.292228  0.292228  0.000000  0.292228  \n",
       "5        0.531427  0.000000  0.000000  0.290828  0.000000  \n",
       "6        0.434653  0.356802  0.356802  0.000000  0.000000  \n",
       "7        0.452947  0.000000  0.000000  0.000000  0.247879  \n",
       "8        0.194025  0.318546  0.318546  0.318546  0.000000  \n",
       "9        0.534716  0.000000  0.000000  0.000000  0.292628  \n",
       "10       0.354285  0.000000  0.000000  0.290828  0.000000  \n",
       "11       0.000000  0.500000  0.500000  0.000000  0.000000  "
      ]
     },
     "execution_count": 73,
     "metadata": {},
     "output_type": "execute_result"
    }
   ],
   "source": [
    "df_tf_idf"
   ]
  },
  {
   "cell_type": "code",
   "execution_count": null,
   "metadata": {
    "colab": {
     "base_uri": "https://localhost:8080/",
     "height": 391
    },
    "id": "3hDbgTGDKfk0",
    "outputId": "cb927d32-9e2f-476c-8212-a76a8463aa32"
   },
   "outputs": [
    {
     "data": {
      "image/png": "[encoded data removed]",
      "text/plain": [
       "<Figure size 800x400 with 1 Axes>"
      ]
     },
     "metadata": {},
     "output_type": "display_data"
    }
   ],
   "source": [
    "# Plot of TF-IDF for word \"AIRY\"\n",
    "\n",
    "from matplotlib import pyplot as plt\n",
    "df_tf_idf['airy'].plot(kind='line', figsize=(8, 4), title='airy')\n",
    "plt.gca().spines[['top', 'right']].set_visible(False)"
   ]
  },
  {
   "cell_type": "code",
   "execution_count": null,
   "metadata": {
    "id": "EvWVeNCWKQyS"
   },
   "outputs": [],
   "source": []
  }
 ],
 "metadata": {
  "colab": {
   "provenance": []
  },
  "kernelspec": {
   "display_name": "Python 3 (ipykernel)",
   "language": "python",
   "name": "python3"
  },
  "language_info": {
   "codemirror_mode": {
    "name": "ipython",
    "version": 3
   },
   "file_extension": ".py",
   "mimetype": "text/x-python",
   "name": "python",
   "nbconvert_exporter": "python",
   "pygments_lexer": "ipython3",
   "version": "3.11.5"
  }
 },
 "nbformat": 4,
 "nbformat_minor": 1
}
