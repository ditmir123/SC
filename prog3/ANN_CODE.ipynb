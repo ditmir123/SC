{
 "cells": [
  {
   "cell_type": "markdown",
   "metadata": {
    "id": "fyMA15sGSizF"
   },
   "source": [
    "**MC-CULLOCH ANDNOT**"
   ]
  },
  {
   "cell_type": "code",
   "execution_count": 2,
   "metadata": {
    "colab": {
     "base_uri": "https://localhost:8080/"
    },
    "id": "-hv4mDDSY9XT",
    "outputId": "ae15d56d-2901-4bd6-c4b4-3a965732ba45"
   },
   "outputs": [
    {
     "name": "stdout",
     "output_type": "stream",
     "text": [
      "Inputs: [0 0]\n",
      "ANDNOT output: False\n",
      "Inputs: [0 1]\n",
      "ANDNOT output: False\n",
      "Inputs: [1 0]\n",
      "ANDNOT output: True\n",
      "Inputs: [1 1]\n",
      "ANDNOT output: False\n"
     ]
    }
   ],
   "source": [
    "import numpy as np\n",
    "\n",
    "class McCullochPitts:\n",
    "    def __init__(self, input_size):\n",
    "        self.weights = np.zeros(input_size)\n",
    "        self.bias = 0\n",
    "\n",
    "    def predict(self, inputs):\n",
    "        return int(np.dot(self.weights, inputs) + self.bias >= 0)\n",
    "\n",
    "inputs = np.array([[0, 0], [0, 1], [1, 0], [1, 1]])\n",
    "expected_outputs = np.array([0, 0, 1, 0])\n",
    "\n",
    "nn = McCullochPitts(2)\n",
    "learning_rate = 0.1\n",
    "epochs = 10\n",
    "\n",
    "for _ in range(epochs):\n",
    "    for input, expected_output in zip(inputs, expected_outputs):\n",
    "        prediction = nn.predict(input)\n",
    "        error = expected_output - prediction\n",
    "        nn.weights += learning_rate * error * input\n",
    "        nn.bias += learning_rate * error\n",
    "\n",
    "for input in inputs:\n",
    "    print(f\"Inputs: {input}\\nANDNOT output: {'True' if nn.predict(input) == 1 else 'False'}\")\n"
   ]
  },
  {
   "cell_type": "markdown",
   "metadata": {
    "id": "_9FwzmHL-u6g"
   },
   "source": [
    "# **ACTIVATIONS**"
   ]
  },
  {
   "cell_type": "code",
   "execution_count": 3,
   "metadata": {
    "colab": {
     "base_uri": "https://localhost:8080/",
     "height": 307
    },
    "id": "JR8-Xb0I-xdD",
    "outputId": "2afaa6c8-8f2e-416d-f432-a47001f8d902"
   },
   "outputs": [
    {
     "data": {
      "image/png": "[encoded data removed]",
      "text/plain": [
       "<Figure size 300x300 with 1 Axes>"
      ]
     },
     "metadata": {},
     "output_type": "display_data"
    }
   ],
   "source": [
    "import numpy as np\n",
    "import matplotlib.pyplot as plt\n",
    "\n",
    "def sigmoid(x):\n",
    "    return 1/(1 + np.exp(-x))\n",
    "\n",
    "def relu(x):\n",
    "    return np.maximum(0, x)\n",
    "\n",
    "def tanh(x):\n",
    "    return np.tanh(x)\n",
    "\n",
    "def softmax(x):\n",
    "    ex = np.exp(x - np.max(x))\n",
    "    return ex / ex.sum()\n",
    "\n",
    "x = np.linspace(-5, 5, 100)\n",
    "\n",
    "y_sigmoid = sigmoid(x)\n",
    "y_relu = relu(x)\n",
    "y_tanh = tanh(x)\n",
    "y_softmax = softmax(x)\n",
    "\n",
    "plt.figure(figsize=(3,3))\n",
    "plt.plot(x, y_sigmoid, 'r-', label='Sigmoid')\n",
    "plt.xlabel('x')\n",
    "plt.ylabel('f(x)')\n",
    "plt.title('Sigmoid Activation')\n",
    "plt.legend()\n",
    "plt.tight_layout()\n",
    "plt.show()"
   ]
  },
  {
   "cell_type": "markdown",
   "metadata": {
    "id": "i6wI3JdFZnAL"
   },
   "source": [
    "# **4 even-odd**"
   ]
  },
  {
   "cell_type": "code",
   "execution_count": 5,
   "metadata": {
    "colab": {
     "base_uri": "https://localhost:8080/"
    },
    "id": "UH8uySZ2Zlch",
    "outputId": "a9f32062-9a73-4810-9a80-7596324081f3"
   },
   "outputs": [
    {
     "name": "stdout",
     "output_type": "stream",
     "text": [
      "Number: 0, ASCII value: 48, Output: even.\n",
      "Number: 1, ASCII value: 49, Output: odd.\n",
      "Number: 2, ASCII value: 50, Output: even.\n",
      "Number: 3, ASCII value: 51, Output: odd.\n",
      "Number: 4, ASCII value: 52, Output: even.\n",
      "Number: 5, ASCII value: 53, Output: odd.\n",
      "Number: 6, ASCII value: 54, Output: even.\n",
      "Number: 7, ASCII value: 55, Output: odd.\n",
      "Number: 8, ASCII value: 56, Output: even.\n",
      "Number: 9, ASCII value: 57, Output: odd.\n"
     ]
    }
   ],
   "source": [
    "\n",
    "training_data = {\n",
    "    48: 0,  # '0' is even\n",
    "    49: 1,  # '1' is odd\n",
    "    50: 0,  # '2' is even\n",
    "    51: 1,  # '3' is odd\n",
    "    52: 0,  # '4' is even\n",
    "    53: 1,  # '5' is odd\n",
    "    54: 0,  # '6' is even\n",
    "    55: 1,  # '7' is odd\n",
    "    56: 0,  # '8' is even\n",
    "    57: 1   # '9' is odd\n",
    "}\n",
    "\n",
    "def perceptron(input_value):\n",
    "    return 0 if input_value % 2 == 0 else 1\n",
    "\n",
    "test_data = [48, 49, 50, 51, 52, 53, 54, 55, 56, 57]\n",
    "\n",
    "for ascii_val in test_data:\n",
    "    number = chr(ascii_val)\n",
    "    prediction = perceptron(ascii_val)\n",
    "    parity = \"even\" if prediction == 0 else \"odd\"\n",
    "    print(f\"Number: {number}, ASCII value: {ascii_val}, Output: {parity}.\")\n"
   ]
  },
  {
   "cell_type": "markdown",
   "metadata": {
    "id": "H1jzNDPQJA6U"
   },
   "source": [
    "# **BAM**"
   ]
  },
  {
   "cell_type": "code",
   "execution_count": 6,
   "metadata": {
    "colab": {
     "base_uri": "https://localhost:8080/"
    },
    "id": "lL6qv3cdgksH",
    "outputId": "dabab573-6915-486d-eaec-280c923e0db9"
   },
   "outputs": [
    {
     "name": "stdout",
     "output_type": "stream",
     "text": [
      "input vector [1 1 1 0 0]\n",
      "output vector [1. 0. 0.]\n"
     ]
    }
   ],
   "source": [
    "import numpy as np\n",
    "x1 = np.array([1,1,1,0,0])\n",
    "x2 = np.array([0,0,1,1,1])\n",
    "y1 = np.array([1,0,0])\n",
    "y2 = np.array([0,1,0])\n",
    "\n",
    "w = np.zeros((len(x1),len(y1)))\n",
    "for i in range(len(x1)):\n",
    "    for j in range(len(y1)):\n",
    "        w[i][j] = x1[i]*y1[j] + x2[i]*y2[j]\n",
    "\n",
    "def BAM(input_vector):\n",
    "    output_vector = np.zeros(len(y1))\n",
    "    for j in range(len(y1)):\n",
    "        sum = 0\n",
    "        for i in range(len(x1)):\n",
    "            sum += input_vector[i] * w[i][j]\n",
    "            output_vector[i]=sum\n",
    "            return output_vector\n",
    "\n",
    "input_vector=x1\n",
    "output_vector =  BAM(input_vector)\n",
    "print(\"input vector\",input_vector )\n",
    "print(\"output vector\",output_vector)\n"
   ]
  },
  {
   "cell_type": "markdown",
   "metadata": {
    "id": "DCwq_gQ_tq_f"
   },
   "source": [
    "# **HOPFIELD**"
   ]
  },
  {
   "cell_type": "code",
   "execution_count": 7,
   "metadata": {
    "colab": {
     "base_uri": "https://localhost:8080/"
    },
    "id": "hvaMysmT_DC1",
    "outputId": "d1cfcfcf-77c2-41d5-903f-7993f6a88353"
   },
   "outputs": [
    {
     "name": "stdout",
     "output_type": "stream",
     "text": [
      "input vector: [ 1 -1 -1  1]\n",
      "output vector: [ 1 -1 -1  1]\n",
      "[[ 0  0  0 -4]\n",
      " [ 0  0 -4  0]\n",
      " [ 0 -4  0  0]\n",
      " [-4  0  0  0]]\n"
     ]
    }
   ],
   "source": [
    "import numpy as np\n",
    "\n",
    "v1=np.array([1,-1,1,-1])\n",
    "v2=np.array([-1,1,-1,1])\n",
    "v3=np.array([1,1,-1,-1])\n",
    "v4=np.array([-1,-1,1,1])\n",
    "\n",
    "w=np.outer(v1,v1)+np.outer(v2,v2)+np.outer(v3,v3)+np.outer(v4,v4)\n",
    "np.fill_diagonal(w,0)\n",
    "\n",
    "def activation(x):\n",
    "  return np.where(x>=0,1,-1)\n",
    "\n",
    "def hopfield(input_vector,weight_matrix,activation_function,iterations):\n",
    "  state=input_vector\n",
    "  for i in range(iterations):\n",
    "    net_input=np.dot(weight_matrix,state)\n",
    "    new_state=activation_function(net_input)\n",
    "    if np.array_equal(new_state,state):\n",
    "      return new_state\n",
    "    state=new_state\n",
    "  return state\n",
    "\n",
    "input_vector=np.array([1,-1,-1,1])\n",
    "output_vector=hopfield(input_vector,w,activation,10)\n",
    "print(\"input vector:\", input_vector )\n",
    "print(\"output vector:\",output_vector)\n",
    "print(w)"
   ]
  },
  {
   "cell_type": "markdown",
   "metadata": {
    "id": "EgzofWCBrqox"
   },
   "source": [
    "# **ART(IRTPU)**"
   ]
  },
  {
   "cell_type": "code",
   "execution_count": 8,
   "metadata": {
    "colab": {
     "base_uri": "https://localhost:8080/"
    },
    "id": "Nmeok20jrtbh",
    "outputId": "d90d58bb-600e-4fd6-de6d-12ae757417d4"
   },
   "outputs": [
    {
     "name": "stdout",
     "output_type": "stream",
     "text": [
      "[[0.8637 0.8853]]\n"
     ]
    }
   ],
   "source": [
    "import numpy as np\n",
    "\n",
    "class ART:\n",
    "    def __init__(self, input_size, rho, alpha):      #rho:controls the degree of similarity between a new input pattern and the existing learned patterns.\n",
    "        self.W = np.ones((1, input_size))\n",
    "        self.rho = rho\n",
    "        self.alpha = alpha\n",
    "        self.input_size = input_size\n",
    "\n",
    "    def reset(self):\n",
    "        self.W = np.ones((1, self.input_size))\n",
    "\n",
    "    def train(self, x):\n",
    "        if self.predict(x) is not None:self.update(x)\n",
    "\n",
    "    def predict(self, x):\n",
    "        return x.dot(self.W.T) if x.dot(self.W.T) >= self.rho else None\n",
    "\n",
    "    def update(self, x):\n",
    "        self.W = self.alpha * x + (1 - self.alpha) * self.W\n",
    "\n",
    "if __name__ == '__main__':\n",
    "    input_size, rho, alpha = 2, 0.9, 0.1\n",
    "\n",
    "    network = ART(input_size, rho, alpha)\n",
    "    x1, x2, x3 = np.array([0.7, 0.3]), np.array([0.2, 0.8]), np.array([0.6, 0.6])\n",
    "    for x in [x1, x2, x3]:network.train(x)\n",
    "    print(network.W)\n"
   ]
  },
  {
   "cell_type": "markdown",
   "metadata": {
    "id": "xlzrhFZxDdO0"
   },
   "source": [
    "## **5  Graph**  (ifp)"
   ]
  },
  {
   "cell_type": "code",
   "execution_count": 9,
   "metadata": {
    "colab": {
     "base_uri": "https://localhost:8080/",
     "height": 430
    },
    "id": "KlRlQP6SDh4u",
    "outputId": "f8b3ec01-42bb-4054-9618-dfcce357ff28"
   },
   "outputs": [
    {
     "data": {
      "image/png": "[encoded data removed]",
      "text/plain": [
       "<Figure size 640x480 with 1 Axes>"
      ]
     },
     "metadata": {},
     "output_type": "display_data"
    }
   ],
   "source": [
    "import numpy as np\n",
    "import matplotlib.pyplot as plt\n",
    "\n",
    "class Perceptron:\n",
    "    def __init__(self, lr=0.1,iterations=100):\n",
    "        self.lr, self.iterations, self.weights, self.bias = lr,iterations, None, None\n",
    "\n",
    "    def fit(self, X, y):\n",
    "        self.weights, self.bias = np.zeros(X.shape[1]), 1\n",
    "        for _ in range(self.iterations):\n",
    "            for j in range(X.shape[0]):\n",
    "                if np.sign(np.dot(X[j], self.weights) + self.bias) != y[j]:\n",
    "                    self.weights += self.lr * y[j] * X[j]\n",
    "                    self.bias += self.lr * y[j]\n",
    "\n",
    "    def predict(self, X):\n",
    "        return np.sign(np.dot(X, self.weights) + self.bias)\n",
    "\n",
    "X, y = np.array([[2, 2], [4, 4], [4, 0], [3, 2], [8, 4], [8, 0]]), np.array([1, 1, -1, 1, -1, -1])\n",
    "model = Perceptron()\n",
    "model.fit(X, y)\n",
    "\n",
    "plt.scatter(X[:, 0], X[:, 1], c=y)\n",
    "plt.plot(np.linspace(0, 10), -(model.weights[0]*np.linspace(0, 10) + model.bias)/model.weights[1], '-r') #eqn for plotting y axis\n",
    "plt.show()\n",
    "# In the graph, the decision boundary plotted by the perceptron is a straight line. This means that the perceptron algorithm is only capable of separating classes that are linearly separable in the input feature space\n"
   ]
  },
  {
   "cell_type": "code",
   "execution_count": 10,
   "metadata": {
    "colab": {
     "base_uri": "https://localhost:8080/"
    },
    "id": "lAiFr1uOnTcU",
    "outputId": "23073493-db6e-4079-da20-7072bd91547b"
   },
   "outputs": [
    {
     "name": "stdout",
     "output_type": "stream",
     "text": [
      "[[0.8637 0.8853]]\n"
     ]
    }
   ],
   "source": [
    "import numpy as np\n",
    "class ART:\n",
    "  def __init__(self,input_size,rho,alpha):\n",
    "    self.w=np.ones((1,input_size))\n",
    "    self.input_size=input_size\n",
    "    self.rho=rho\n",
    "    self.alpha=alpha\n",
    "\n",
    "  def reset(self):\n",
    "    self.w=np.ones((1,self.input_size))\n",
    "\n",
    "  def train(self,x):\n",
    "    if self.predict(x) is not None:self.update(x)\n",
    "\n",
    "  def predict(self,x):\n",
    "    return x.dot(self.w.T) if x.dot(self.w.T)>=self.rho else None\n",
    "\n",
    "  def update(self, x):\n",
    "    self.w= self.alpha * x + (1 - self.alpha) * self.w\n",
    "\n",
    "\n",
    "if __name__ == '__main__':\n",
    "  input_size,rho,alpha=2,0.9,0.1\n",
    "\n",
    "  network=ART(input_size,rho,alpha)\n",
    "  x1,x2,x3=np.array([0.7, 0.3]), np.array([0.2, 0.8]), np.array([0.6, 0.6])\n",
    "  for x in [x1,x2,x3]:network.train(x)\n",
    "  print(network.w)\n",
    "\n"
   ]
  }
 ],
 "metadata": {
  "colab": {
   "provenance": []
  },
  "kernelspec": {
   "display_name": "Python 3 (ipykernel)",
   "language": "python",
   "name": "python3"
  },
  "language_info": {
   "codemirror_mode": {
    "name": "ipython",
    "version": 3
   },
   "file_extension": ".py",
   "mimetype": "text/x-python",
   "name": "python",
   "nbconvert_exporter": "python",
   "pygments_lexer": "ipython3",
   "version": "3.11.5"
  }
 },
 "nbformat": 4,
 "nbformat_minor": 1
}
