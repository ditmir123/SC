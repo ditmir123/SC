{
 "cells": [
  {
   "cell_type": "markdown",
   "metadata": {
    "id": "mYBPm8u0fArb"
   },
   "source": [
    "# **CANCER**"
   ]
  },
  {
   "cell_type": "code",
   "execution_count": 1,
   "metadata": {
    "id": "WkwTw2jYe-Sb"
   },
   "outputs": [],
   "source": [
    "import numpy as np\n",
    "import tensorflow as tf\n",
    "from sklearn.model_selection import train_test_split\n",
    "from sklearn.preprocessing import StandardScaler\n",
    "from sklearn.datasets import load_breast_cancer"
   ]
  },
  {
   "cell_type": "code",
   "execution_count": 2,
   "metadata": {
    "id": "k_uW1L9OfqHL"
   },
   "outputs": [],
   "source": [
    "df=load_breast_cancer()"
   ]
  },
  {
   "cell_type": "code",
   "execution_count": 3,
   "metadata": {
    "id": "5iTqnXEDfxzs"
   },
   "outputs": [],
   "source": [
    "x_train,x_test,y_train,y_test=train_test_split(df.data,df.target,test_size=0.2,random_state=42)"
   ]
  },
  {
   "cell_type": "code",
   "execution_count": 4,
   "metadata": {
    "id": "XrKe0T5sf8s3"
   },
   "outputs": [],
   "source": [
    "sc=StandardScaler()\n",
    "x_train=sc.fit_transform(x_train)\n",
    "x_test=sc.transform(x_test)"
   ]
  },
  {
   "cell_type": "code",
   "execution_count": 5,
   "metadata": {
    "id": "_7P7Ph7CgDhM"
   },
   "outputs": [],
   "source": [
    "model=tf.keras.models.Sequential(tf.keras.layers.Dense(1,activation='sigmoid',input_shape=(x_train.shape[1],)))"
   ]
  },
  {
   "cell_type": "code",
   "execution_count": 6,
   "metadata": {
    "id": "Z68sT1sfgdOk"
   },
   "outputs": [],
   "source": [
    "model.compile(optimizer='adam', loss='binary_crossentropy', metrics=['accuracy'])"
   ]
  },
  {
   "cell_type": "code",
   "execution_count": 7,
   "metadata": {
    "colab": {
     "base_uri": "https://localhost:8080/"
    },
    "id": "i71VPkPsg2JN",
    "outputId": "7d7ca588-88e2-48a9-e841-5bacfa663409"
   },
   "outputs": [
    {
     "name": "stdout",
     "output_type": "stream",
     "text": [
      "Epoch 1/10\n",
      "15/15 [==============================] - 3s 10ms/step - loss: 0.7271 - accuracy: 0.5319\n",
      "Epoch 2/10\n",
      "15/15 [==============================] - 0s 7ms/step - loss: 0.6402 - accuracy: 0.6286\n",
      "Epoch 3/10\n",
      "15/15 [==============================] - 0s 21ms/step - loss: 0.5667 - accuracy: 0.7077\n",
      "Epoch 4/10\n",
      "15/15 [==============================] - 0s 9ms/step - loss: 0.5086 - accuracy: 0.7802\n",
      "Epoch 5/10\n",
      "15/15 [==============================] - 0s 8ms/step - loss: 0.4614 - accuracy: 0.8198\n",
      "Epoch 6/10\n",
      "15/15 [==============================] - 0s 7ms/step - loss: 0.4221 - accuracy: 0.8374\n",
      "Epoch 7/10\n",
      "15/15 [==============================] - 0s 7ms/step - loss: 0.3905 - accuracy: 0.8571\n",
      "Epoch 8/10\n",
      "15/15 [==============================] - 0s 8ms/step - loss: 0.3633 - accuracy: 0.8659\n",
      "Epoch 9/10\n",
      "15/15 [==============================] - 0s 7ms/step - loss: 0.3406 - accuracy: 0.8879\n",
      "Epoch 10/10\n",
      "15/15 [==============================] - 0s 9ms/step - loss: 0.3216 - accuracy: 0.9099\n"
     ]
    },
    {
     "data": {
      "text/plain": [
       "<keras.src.callbacks.History at 0x7806141ef820>"
      ]
     },
     "execution_count": 7,
     "metadata": {},
     "output_type": "execute_result"
    }
   ],
   "source": [
    "model.fit(x_train,y_train,epochs=10)"
   ]
  },
  {
   "cell_type": "code",
   "execution_count": 8,
   "metadata": {
    "colab": {
     "base_uri": "https://localhost:8080/"
    },
    "id": "arUmhSkog8xN",
    "outputId": "fff62a48-4bec-4a92-f960-a632a0224a6f"
   },
   "outputs": [
    {
     "name": "stdout",
     "output_type": "stream",
     "text": [
      "4/4 [==============================] - 0s 8ms/step - loss: 0.3085 - accuracy: 0.9035\n"
     ]
    }
   ],
   "source": [
    "test_loss,test_accuracy=model.evaluate(x_test,y_test)"
   ]
  },
  {
   "cell_type": "code",
   "execution_count": 9,
   "metadata": {
    "colab": {
     "base_uri": "https://localhost:8080/"
    },
    "id": "Z5OeA_gghKy6",
    "outputId": "869d906c-5170-4914-999f-a06de7a0f4dd"
   },
   "outputs": [
    {
     "name": "stdout",
     "output_type": "stream",
     "text": [
      "LOSS:0.30845633149147034\n"
     ]
    }
   ],
   "source": [
    "print(f\"LOSS:{test_loss}\")"
   ]
  },
  {
   "cell_type": "markdown",
   "metadata": {
    "id": "Zg8-a-e7hWwS"
   },
   "source": [
    "# **CNN**"
   ]
  },
  {
   "cell_type": "code",
   "execution_count": 10,
   "metadata": {
    "id": "-1fAijn_hNmp"
   },
   "outputs": [],
   "source": [
    "import tensorflow as tf\n",
    "from tensorflow.keras.datasets import mnist\n",
    "from tensorflow.keras. models import Sequential\n",
    "from tensorflow.keras.layers import Conv2D,MaxPooling2D,Flatten,Dense\n",
    "from tensorflow.keras.utils import to_categorical"
   ]
  },
  {
   "cell_type": "code",
   "execution_count": null,
   "metadata": {
    "colab": {
     "base_uri": "https://localhost:8080/"
    },
    "id": "RhnGtEJ_irH2",
    "outputId": "15cf4c5a-fbf1-4950-b87e-dc0da79ebe08"
   },
   "outputs": [
    {
     "name": "stdout",
     "output_type": "stream",
     "text": [
      "Downloading data from https://storage.googleapis.com/tensorflow/tf-keras-datasets/mnist.npz\n",
      "11490434/11490434 [==============================] - 1s 0us/step\n",
      "Epoch 1/10\n",
      "313/313 [==============================] - 21s 51ms/step - loss: 0.4031 - accuracy: 0.8794\n",
      "Epoch 2/10\n",
      "313/313 [==============================] - 11s 34ms/step - loss: 0.0901 - accuracy: 0.9728\n",
      "Epoch 3/10\n",
      "313/313 [==============================] - 11s 34ms/step - loss: 0.0567 - accuracy: 0.9814\n",
      "Epoch 4/10\n",
      "313/313 [==============================] - 9s 29ms/step - loss: 0.0452 - accuracy: 0.9847\n",
      "Epoch 5/10\n",
      "313/313 [==============================] - 10s 32ms/step - loss: 0.0277 - accuracy: 0.9908\n",
      "Epoch 6/10\n",
      "313/313 [==============================] - 11s 34ms/step - loss: 0.0231 - accuracy: 0.9919\n",
      "Epoch 7/10\n",
      "313/313 [==============================] - 10s 33ms/step - loss: 0.0196 - accuracy: 0.9931\n",
      "Epoch 8/10\n",
      "313/313 [==============================] - 10s 30ms/step - loss: 0.0160 - accuracy: 0.9947\n",
      "Epoch 9/10\n",
      "313/313 [==============================] - 10s 33ms/step - loss: 0.0117 - accuracy: 0.9963\n",
      "Epoch 10/10\n",
      "313/313 [==============================] - 11s 35ms/step - loss: 0.0161 - accuracy: 0.9948\n",
      "105/313 [=========>....................] - ETA: 3s - loss: 0.0136 - accuracy: 0.9949"
     ]
    }
   ],
   "source": [
    "(x_train,y_train),(x_test,y_test)= mnist.load_data()\n",
    "x_train=x_train.reshape(-1,28,28,1)/255.0   #  -1: dimwension\n",
    "x_test=x_test.reshape(-1,28,28,1)/255.0\n",
    "y_train=to_categorical(y_train)\n",
    "y_test=to_categorical(y_test)\n",
    "\n",
    "model=Sequential([\n",
    "    Conv2D(32,(3,3),activation='relu', input_shape=(28,28,1)),           # 32-number of filters\n",
    "    MaxPooling2D((2,2)),\n",
    "    Conv2D(64,(3,3),activation='relu'),\n",
    "    MaxPooling2D((2,2)),\n",
    "    Conv2D(64,(3,3),activation='relu'),\n",
    "    Flatten(),\n",
    "    Dense(64,activation='relu'),\n",
    "    Dense(10,activation='softmax')\n",
    "])\n",
    "\n",
    "model.compile(optimizer='adam', loss='categorical_crossentropy', metrics=['accuracy'])\n",
    "model.fit(x_test,y_test, epochs=10)\n",
    "test_loss,test_accuracy=model.evaluate(x_test,y_test)\n",
    "print(f\"LOSS:{test_loss}\")"
   ]
  },
  {
   "cell_type": "markdown",
   "metadata": {
    "id": "Ucl1kuEfmKjh"
   },
   "source": [
    "# **MNIST**"
   ]
  },
  {
   "cell_type": "code",
   "execution_count": null,
   "metadata": {
    "id": "YNw6qVVPmph2"
   },
   "outputs": [],
   "source": [
    "import tensorflow as tf\n",
    "from tensorflow.keras.datasets import mnist\n",
    "from tensorflow.keras.models import Sequential\n",
    "from tensorflow.keras.layers import Flatten,Dense\n",
    "from tensorflow.keras.optimizers import Adam"
   ]
  },
  {
   "cell_type": "code",
   "execution_count": null,
   "metadata": {
    "id": "LuKWFyysnHKs"
   },
   "outputs": [],
   "source": [
    "(x_train,y_train),(y_train,y_test)=mnist.load_data()\n",
    "x_train=x_train/255.0\n",
    "x_test=x_test/255.0"
   ]
  },
  {
   "cell_type": "code",
   "execution_count": null,
   "metadata": {
    "id": "X2KtgaJXnRTy"
   },
   "outputs": [],
   "source": [
    "model=Sequential([\n",
    "    Flatten(input_shape=(28,28)),\n",
    "    Dense(128,activation='relu'),\n",
    "    Dense(10,activation='softmax')\n",
    "])"
   ]
  },
  {
   "cell_type": "code",
   "execution_count": null,
   "metadata": {
    "id": "UZR9fihPnl7m"
   },
   "outputs": [],
   "source": [
    "model.compile(optimizer=Adam(learning_rate=0.001), loss='sparse_categorical_crossentropy', metrics=['accuracy'])"
   ]
  },
  {
   "cell_type": "code",
   "execution_count": null,
   "metadata": {
    "id": "fwOvzyItnysB"
   },
   "outputs": [],
   "source": [
    "model.fit(x_test,y_test,epochs=10)"
   ]
  },
  {
   "cell_type": "code",
   "execution_count": null,
   "metadata": {
    "id": "h4WIPF5rn8Aw"
   },
   "outputs": [],
   "source": [
    "test_loss,test_accuracy=model.evaluate(x_test,y_test)"
   ]
  },
  {
   "cell_type": "code",
   "execution_count": null,
   "metadata": {
    "id": "yIHx_dSWoNUE"
   },
   "outputs": [],
   "source": [
    "print(f\"LOSS:{test_loss}\")"
   ]
  },
  {
   "cell_type": "code",
   "execution_count": null,
   "metadata": {
    "id": "2zu0Ubx1oP-q"
   },
   "outputs": [],
   "source": [
    "print(f\"ACCURACY:{test_accuracy}\")"
   ]
  }
 ],
 "metadata": {
  "colab": {
   "provenance": []
  },
  "kernelspec": {
   "display_name": "Python 3",
   "name": "python3"
  },
  "language_info": {
   "name": "python"
  }
 },
 "nbformat": 4,
 "nbformat_minor": 0
}
