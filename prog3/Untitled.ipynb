{
 "cells": [
  {
   "cell_type": "code",
   "execution_count": 21,
   "id": "194a129f",
   "metadata": {},
   "outputs": [
    {
     "name": "stdout",
     "output_type": "stream",
     "text": [
      "Inputs | Output\n",
      "----------------\n",
      "(0, 0)   |   0\n",
      "(0, 1)   |   0\n",
      "(1, 0)   |   1\n",
      "(1, 1)   |   0\n"
     ]
    }
   ],
   "source": [
    "class McCullochPittsNeuron:\n",
    "    def __init__(self, weights, threshold):\n",
    "        self.weights = weights\n",
    "        self.threshold = threshold\n",
    "\n",
    "    def activate(self, inputs):\n",
    "        activation = sum(w * x for w, x in zip(self.weights, inputs))\n",
    "        return 1 if activation >= self.threshold else 0\n",
    "\n",
    "def main():\n",
    "    # Define the weights and threshold for the McCulloch-Pitts neuron\n",
    "    weights = [1, -1]  # Weight for the first input is 1, and for the second input is -1\n",
    "    threshold = 0.5\n",
    "\n",
    "    # Create a McCulloch-Pitts neuron instance\n",
    "    neuron = McCullochPittsNeuron(weights, threshold)\n",
    "\n",
    "    # Define inputs for the ANDNOT function\n",
    "    inputs = [(0, 0), (0, 1), (1, 0), (1, 1)]\n",
    "\n",
    "    # Compute outputs\n",
    "    print(\"Inputs | Output\")\n",
    "    print(\"----------------\")\n",
    "    for input_pair in inputs:\n",
    "        input1, input2 = input_pair\n",
    "        output = neuron.activate([input1, input2])\n",
    "        print(f\"{input1, input2}   |   {output}\")\n",
    "\n",
    "if __name__ == \"__main__\":\n",
    "    main()\n"
   ]
  },
  {
   "cell_type": "code",
   "execution_count": 22,
   "id": "4d3a1034",
   "metadata": {},
   "outputs": [
    {
     "name": "stdout",
     "output_type": "stream",
     "text": [
      "Number: 0, ASCII value: 48 , Output: even.\n",
      "Number: 1, ASCII value: 49 , Output: odd.\n",
      "Number: 2, ASCII value: 50 , Output: even.\n",
      "Number: 3, ASCII value: 51 , Output: odd.\n",
      "Number: 4, ASCII value: 52 , Output: even.\n",
      "Number: 5, ASCII value: 53 , Output: odd.\n",
      "Number: 6, ASCII value: 54 , Output: even.\n",
      "Number: 7, ASCII value: 55 , Output: odd.\n",
      "Number: 8, ASCII value: 56 , Output: even.\n",
      "Number: 9, ASCII value: 57 , Output: odd.\n"
     ]
    }
   ],
   "source": [
    "import numpy as np\n",
    "\n",
    "training_data = np.array([[48, 0],[49, 1],[50, 0],[51, 1],[52, 0],[53, 1],[54, 0],[55, 1],[56, 0],[57, 1]]) \n",
    "\n",
    "X = training_data[:, 0].reshape(-1, 1)\n",
    "y = training_data[:, 1]\n",
    "\n",
    "perceptron = np.where(np.sum(X, axis=1) % 2 == 0, 0, 1)\n",
    "\n",
    "test_data = np.array([48, 49, 50, 51, 52, 53, 54, 55, 56, 57])\n",
    "predictions = np.where(np.sum(test_data.reshape(-1, 1), axis=1) % 2 == 0, 0, 1)\n",
    "\n",
    "for ascii_val, prediction in zip(test_data, predictions):\n",
    "    number = chr(ascii_val)\n",
    "    parity = \"even\" if prediction == 0 else \"odd\"\n",
    "    print(f\"Number: {number}, ASCII value: {ascii_val} , Output: {parity}.\")\n"
   ]
  },
  {
   "cell_type": "code",
   "execution_count": 25,
   "id": "1438b08b",
   "metadata": {},
   "outputs": [
    {
     "name": "stdout",
     "output_type": "stream",
     "text": [
      "[[1. 1. 1. 1.]]\n"
     ]
    }
   ],
   "source": [
    "W = np.ones((1,4))\n",
    "print(W)"
   ]
  },
  {
   "cell_type": "code",
   "execution_count": 3,
   "id": "24009254",
   "metadata": {},
   "outputs": [
    {
     "ename": "NameError",
     "evalue": "name 'model' is not defined",
     "output_type": "error",
     "traceback": [
      "\u001b[1;31m---------------------------------------------------------------------------\u001b[0m",
      "\u001b[1;31mNameError\u001b[0m                                 Traceback (most recent call last)",
      "Cell \u001b[1;32mIn[3], line 11\u001b[0m\n\u001b[0;32m      9\u001b[0m plt\u001b[38;5;241m.\u001b[39mylim(\u001b[38;5;241m0\u001b[39m, \u001b[38;5;241m5\u001b[39m)\n\u001b[0;32m     10\u001b[0m x1 \u001b[38;5;241m=\u001b[39m np\u001b[38;5;241m.\u001b[39mlinspace(\u001b[38;5;241m0\u001b[39m, \u001b[38;5;241m10\u001b[39m)\n\u001b[1;32m---> 11\u001b[0m x2 \u001b[38;5;241m=\u001b[39m \u001b[38;5;241m-\u001b[39m(model\u001b[38;5;241m.\u001b[39mweights[\u001b[38;5;241m0\u001b[39m]\u001b[38;5;241m*\u001b[39mx1 \u001b[38;5;241m+\u001b[39m model\u001b[38;5;241m.\u001b[39mbias)\u001b[38;5;241m/\u001b[39mmodel\u001b[38;5;241m.\u001b[39mweights[\u001b[38;5;241m1\u001b[39m]\n\u001b[0;32m     12\u001b[0m plt\u001b[38;5;241m.\u001b[39mplot(x1, x2, \u001b[38;5;124m'\u001b[39m\u001b[38;5;124m-r\u001b[39m\u001b[38;5;124m'\u001b[39m)\n\u001b[0;32m     13\u001b[0m plt\u001b[38;5;241m.\u001b[39mshow()\n",
      "\u001b[1;31mNameError\u001b[0m: name 'model' is not defined"
     ]
    },
    {
     "data": {
      "image/png": "[encoded data removed]",
      "text/plain": [
       "<Figure size 640x480 with 1 Axes>"
      ]
     },
     "metadata": {},
     "output_type": "display_data"
    }
   ],
   "source": [
    "import numpy as np\n",
    "import matplotlib.pyplot as plt\n",
    "\n",
    "X = np.array([[2, 2], [4, 4], [4, 0], [3, 2], [8, 4], [8, 0]])\n",
    "y = np.array([1, 1, -1, 1, -1, -1])\n",
    "\n",
    "plt.scatter(X[:, 0], X[:, 1], c=y)\n",
    "plt.xlim(0, 10)\n",
    "plt.ylim(0, 5)\n",
    "x1 = np.linspace(0, 10)\n",
    "x2 = -(model.weights[0]*x1 + model.bias)/model.weights[1]\n",
    "plt.plot(x1, x2, '-r')\n",
    "plt.show()"
   ]
  },
  {
   "cell_type": "code",
   "execution_count": 4,
   "id": "8147d63c",
   "metadata": {},
   "outputs": [
    {
     "data": {
      "image/png": "[encoded data removed]",
      "text/plain": [
       "<Figure size 640x480 with 1 Axes>"
      ]
     },
     "metadata": {},
     "output_type": "display_data"
    }
   ],
   "source": [
    "import numpy as np\n",
    "import matplotlib.pyplot as plt\n",
    "from sklearn.linear_model import Perceptron\n",
    "\n",
    "# Define the data\n",
    "X = np.array([[2, 2], [4, 4], [4, 0], [3, 2], [8, 4], [8, 0]])\n",
    "y = np.array([1, 1, -1, 1, -1, -1])\n",
    "\n",
    "# Initialize and fit the perceptron model\n",
    "model = Perceptron()\n",
    "model.fit(X, y)\n",
    "\n",
    "# Plot the data points\n",
    "plt.scatter(X[:, 0], X[:, 1], c=y)\n",
    "\n",
    "# Plot the decision boundary\n",
    "x1_min, x1_max = X[:, 0].min() - 1, X[:, 0].max() + 1\n",
    "x2_min, x2_max = X[:, 1].min() - 1, X[:, 1].max() + 1\n",
    "x1, x2 = np.meshgrid(np.arange(x1_min, x1_max, 0.01), np.arange(x2_min, x2_max, 0.01))\n",
    "Z = model.predict(np.c_[x1.ravel(), x2.ravel()])\n",
    "Z = Z.reshape(x1.shape)\n",
    "plt.contourf(x1, x2, Z, alpha=0.3)\n",
    "\n",
    "# Set plot limits\n",
    "plt.xlim(x1_min, x1_max)\n",
    "plt.ylim(x2_min, x2_max)\n",
    "\n",
    "# Show plot\n",
    "plt.show()\n"
   ]
  },
  {
   "cell_type": "code",
   "execution_count": null,
   "id": "457699d9",
   "metadata": {},
   "outputs": [],
   "source": []
  }
 ],
 "metadata": {
  "kernelspec": {
   "display_name": "Python 3 (ipykernel)",
   "language": "python",
   "name": "python3"
  },
  "language_info": {
   "codemirror_mode": {
    "name": "ipython",
    "version": 3
   },
   "file_extension": ".py",
   "mimetype": "text/x-python",
   "name": "python",
   "nbconvert_exporter": "python",
   "pygments_lexer": "ipython3",
   "version": "3.11.5"
  }
 },
 "nbformat": 4,
 "nbformat_minor": 5
}
