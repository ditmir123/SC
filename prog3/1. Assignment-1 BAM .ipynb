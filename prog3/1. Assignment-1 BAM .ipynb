{
 "cells": [
  {
   "cell_type": "code",
   "execution_count": 8,
   "id": "374dc8b6",
   "metadata": {},
   "outputs": [
    {
     "name": "stdout",
     "output_type": "stream",
     "text": [
      "Recalled X: [[1 0 1]\n",
      " [0 1 0]]\n",
      "Recalled X1: [[1 1 0]\n",
      " [0 0 1]]\n"
     ]
    }
   ],
   "source": [
    "import numpy as np\n",
    "\n",
    "class BAM:\n",
    "    def __init__(self):\n",
    "        self.weights = None\n",
    "    def train(self, X, Y):\n",
    "        self.weights = np.dot(Y.T, X)\n",
    "    def recall(self, Y):\n",
    "        recalled_X = np.dot(Y, self.weights)\n",
    "        return recalled_X\n",
    "        \n",
    "\n",
    "if __name__ == '__main__':\n",
    "    X = np.array([[1,0,1], [0,1,0]])\n",
    "    Y = np.array([[0,1],[1,0]])\n",
    "    \n",
    "    bam = BAM()\n",
    "    bam.train(X, Y)\n",
    "    \n",
    "    test_Y = [[0,1],[1,0]]\n",
    "    recalled_X = bam.recall(test_Y)\n",
    "    print('Recalled X:', recalled_X)\n",
    "    \n",
    "    X1 = np.array([[1,1,0],[0,0,1]])\n",
    "    Y1 = np.array([[1,0],[0,1]])\n",
    "    bam.train(X1,Y1)\n",
    "    test_Y1 = [[1,0],[0,1]]\n",
    "    recalled_X1 = bam.recall(test_Y1)\n",
    "    print('Recalled X1:',recalled_X1)"
   ]
  },
  {
   "cell_type": "code",
   "execution_count": null,
   "id": "7c498fce",
   "metadata": {},
   "outputs": [],
   "source": []
  }
 ],
 "metadata": {
  "kernelspec": {
   "display_name": "Python 3 (ipykernel)",
   "language": "python",
   "name": "python3"
  },
  "language_info": {
   "codemirror_mode": {
    "name": "ipython",
    "version": 3
   },
   "file_extension": ".py",
   "mimetype": "text/x-python",
   "name": "python",
   "nbconvert_exporter": "python",
   "pygments_lexer": "ipython3",
   "version": "3.11.5"
  }
 },
 "nbformat": 4,
 "nbformat_minor": 5
}
